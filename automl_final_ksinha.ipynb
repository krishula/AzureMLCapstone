{
  "cells": [
    {
      "cell_type": "markdown",
      "source": [
        "# Automated ML\n",
        "\n",
        "Import Dependencies."
      ],
      "metadata": {
        "nteract": {
          "transient": {
            "deleting": false
          }
        }
      }
    },
    {
      "cell_type": "code",
      "source": [
        "from azureml.core import Workspace, Experiment\n",
        "from azureml.data.dataset_factory import TabularDatasetFactory\n",
        "from azureml.train.automl import AutoMLConfig"
      ],
      "outputs": [],
      "execution_count": 1,
      "metadata": {
        "gather": {
          "logged": 1610371576500
        },
        "jupyter": {
          "outputs_hidden": false,
          "source_hidden": false
        },
        "nteract": {
          "transient": {
            "deleting": false
          }
        }
      }
    },
    {
      "cell_type": "markdown",
      "source": [
        "## Dataset\n",
        "\n",
        "### Overview\n"
      ],
      "metadata": {}
    },
    {
      "cell_type": "code",
      "source": [
        "ws = Workspace.from_config()\n",
        "\n",
        "# choose a name for experiment\n",
        "experiment_name = 'capstone-automl'\n",
        "\n",
        "experiment=Experiment(ws, experiment_name)"
      ],
      "outputs": [
        {
          "output_type": "stream",
          "name": "stdout",
          "text": [
            "Performing interactive authentication. Please follow the instructions on the terminal.\n",
            "To sign in, use a web browser to open the page https://microsoft.com/devicelogin and enter the code E95V52TEJ to authenticate.\n",
            "You have logged in. Now let us find all the subscriptions to which you have access...\n",
            "Interactive authentication successfully completed.\n"
          ]
        }
      ],
      "execution_count": 2,
      "metadata": {
        "gather": {
          "logged": 1610371637637
        },
        "jupyter": {
          "outputs_hidden": false,
          "source_hidden": false
        },
        "nteract": {
          "transient": {
            "deleting": false
          }
        }
      }
    },
    {
      "cell_type": "markdown",
      "source": [
        "## Creating Compute"
      ],
      "metadata": {}
    },
    {
      "cell_type": "code",
      "source": [
        "from azureml.core.compute import ComputeTarget, AmlCompute\n",
        "from azureml.core.compute_target import ComputeTargetException\n",
        "\n",
        "amlcompute_cluster_name = \"capstone-compute\"\n",
        "\n",
        "# Verify that cluster does not exist already\n",
        "try:\n",
        "    aml_compute = ComputeTarget(workspace=ws, name=amlcompute_cluster_name)\n",
        "    print('Found existing cluster, use it.')\n",
        "except ComputeTargetException:\n",
        "    compute_config = AmlCompute.provisioning_configuration(vm_size='STANDARD_D2_V2',\n",
        "                                                           max_nodes=4)\n",
        "    aml_compute = ComputeTarget.create(ws, amlcompute_cluster_name, compute_config)"
      ],
      "outputs": [
        {
          "output_type": "stream",
          "name": "stdout",
          "text": [
            "Found existing cluster, use it.\n"
          ]
        }
      ],
      "execution_count": 3,
      "metadata": {
        "gather": {
          "logged": 1610371641512
        }
      }
    },
    {
      "cell_type": "markdown",
      "source": [
        "## AutoML Configuration"
      ],
      "metadata": {}
    },
    {
      "cell_type": "code",
      "source": [
        "factory = TabularDatasetFactory()\n",
        "url = 'https://raw.githubusercontent.com/krishula/AzureMLCapstone/main/heart.csv'\n",
        "train_data = factory.from_delimited_files(url)"
      ],
      "outputs": [],
      "execution_count": 4,
      "metadata": {
        "gather": {
          "logged": 1610371653447
        }
      }
    },
    {
      "cell_type": "code",
      "source": [
        "# TODO: Put your automl settings here\n",
        "automl_settings = {\n",
        "    \"enable_early_stopping\" : True,\n",
        "    \"primary_metric\": 'accuracy',\n",
        "    \"featurization\": 'auto',\n",
        "    \"experiment_timeout_minutes\": 20,\n",
        "}\n",
        "\n",
        "# TODO: Put your automl config here\n",
        "automl_config = AutoMLConfig(task = 'classification',\n",
        "                             compute_target  = aml_compute,\n",
        "                             blocked_models = ['KNN','LinearSVM'],\n",
        "                             debug_log = 'automl_errors.log',\n",
        "                             enable_onnx_compatible_models=True,\n",
        "                             training_data = train_data,\n",
        "                             label_column_name = 'target',\n",
        "                             max_concurrent_iterations = 4,\n",
        "                             **automl_settings\n",
        "                            )"
      ],
      "outputs": [],
      "execution_count": 6,
      "metadata": {
        "gather": {
          "logged": 1610371676095
        },
        "jupyter": {
          "outputs_hidden": false,
          "source_hidden": false
        },
        "nteract": {
          "transient": {
            "deleting": false
          }
        }
      }
    },
    {
      "cell_type": "code",
      "source": [
        "# TODO: Submit experiment\n",
        "remote_run = experiment.submit(automl_config, show_output = True)"
      ],
      "outputs": [
        {
          "output_type": "stream",
          "name": "stdout",
          "text": [
            "Running on remote.\n",
            "No run_configuration provided, running on capstone-compute with default configuration\n",
            "Running on remote compute: capstone-compute\n",
            "Parent Run ID: AutoML_2bb460c2-e191-436f-8b1f-fd82c3986e13\n",
            "\n",
            "Current status: FeaturesGeneration. Generating features for the dataset.\n",
            "Current status: ModelSelection. Beginning model selection.\n",
            "\n",
            "****************************************************************************************************\n",
            "DATA GUARDRAILS: \n",
            "\n",
            "TYPE:         Cross validation\n",
            "STATUS:       DONE\n",
            "DESCRIPTION:  Each iteration of the trained model was validated through cross-validation.\n",
            "              \n",
            "DETAILS:      \n",
            "+---------------------------------+\n",
            "|Number of folds                  |\n",
            "+=================================+\n",
            "|10                               |\n",
            "+---------------------------------+\n",
            "\n",
            "****************************************************************************************************\n",
            "\n",
            "TYPE:         Class balancing detection\n",
            "STATUS:       PASSED\n",
            "DESCRIPTION:  Your inputs were analyzed, and all classes are balanced in your training data.\n",
            "              Learn more about imbalanced data: https://aka.ms/AutomatedMLImbalancedData\n",
            "\n",
            "****************************************************************************************************\n",
            "\n",
            "TYPE:         High cardinality feature detection\n",
            "STATUS:       PASSED\n",
            "DESCRIPTION:  Your inputs were analyzed, and no high cardinality features were detected.\n",
            "              Learn more about high cardinality feature handling: https://aka.ms/AutomatedMLFeaturization\n",
            "\n",
            "****************************************************************************************************\n",
            "\n",
            "****************************************************************************************************\n",
            "ITERATION: The iteration being evaluated.\n",
            "PIPELINE: A summary description of the pipeline being evaluated.\n",
            "DURATION: Time taken for the current iteration.\n",
            "METRIC: The result of computing score on the fitted pipeline.\n",
            "BEST: The best observed score thus far.\n",
            "****************************************************************************************************\n",
            "\n",
            " ITERATION   PIPELINE                                       DURATION      METRIC      BEST\n",
            "         0   MaxAbsScaler LightGBM                          0:00:47       0.8083    0.8083\n",
            "         1   MaxAbsScaler XGBoostClassifier                 0:00:55       0.8113    0.8113\n",
            "         2   MinMaxScaler RandomForest                      0:00:45       0.8082    0.8113\n",
            "         3   MinMaxScaler RandomForest                      0:00:45       0.8051    0.8113\n",
            "         4   MinMaxScaler RandomForest                      0:00:54       0.8015    0.8113\n",
            "         5   MinMaxScaler SVM                               0:00:48       0.7882    0.8113\n",
            "         6   MaxAbsScaler GradientBoosting                  0:01:07       0.8381    0.8381\n",
            "         7   StandardScalerWrapper RandomForest             0:00:54       0.8248    0.8381\n",
            "         8   StandardScalerWrapper RandomForest             0:00:54       0.8412    0.8412\n",
            "         9   SparseNormalizer XGBoostClassifier             0:00:54       0.8313    0.8412\n",
            "        10   RobustScaler ExtremeRandomTrees                0:00:49       0.8084    0.8412\n",
            "        11   MinMaxScaler LightGBM                          0:00:47       0.8315    0.8412\n",
            "        12   StandardScalerWrapper RandomForest             0:00:43       0.8182    0.8412\n",
            "        13   StandardScalerWrapper GradientBoosting         0:00:48       0.8082    0.8412\n",
            "        14   SparseNormalizer LightGBM                      0:00:54       0.8213    0.8412\n",
            "        15   MinMaxScaler LightGBM                          0:00:48       0.8216    0.8412\n",
            "        16   StandardScalerWrapper XGBoostClassifier        0:00:47       0.7951    0.8412\n",
            "        17   RobustScaler ExtremeRandomTrees                0:00:56       0.8215    0.8412\n",
            "        18    VotingEnsemble                                0:01:24       0.8512    0.8512\n"
          ]
        }
      ],
      "execution_count": 7,
      "metadata": {
        "gather": {
          "logged": 1610373519996
        },
        "jupyter": {
          "outputs_hidden": false,
          "source_hidden": false
        },
        "nteract": {
          "transient": {
            "deleting": false
          }
        }
      }
    },
    {
      "cell_type": "markdown",
      "source": [
        "## Run Details\n"
      ],
      "metadata": {}
    },
    {
      "cell_type": "code",
      "source": [
        "from azureml.widgets import RunDetails\n",
        "\n",
        "RunDetails(remote_run).show()"
      ],
      "outputs": [
        {
          "output_type": "display_data",
          "data": {
            "text/plain": "_AutoMLWidget(widget_settings={'childWidgetDisplay': 'popup', 'send_telemetry': False, 'log_level': 'INFO', 's…",
            "application/vnd.jupyter.widget-view+json": {
              "version_major": 2,
              "version_minor": 0,
              "model_id": "d490345ac5704640b0f6b9596b140943"
            }
          },
          "metadata": {}
        },
        {
          "output_type": "display_data",
          "data": {
            "application/aml.mini.widget.v1": "{\"status\": \"Completed\", \"workbench_run_details_uri\": \"https://ml.azure.com/experiments/capstone-automl/runs/AutoML_2bb460c2-e191-436f-8b1f-fd82c3986e13?wsid=/subscriptions/510b94ba-e453-4417-988b-fbdc37b55ca7/resourcegroups/aml-quickstarts-134329/workspaces/ws-capstone\", \"run_id\": \"AutoML_2bb460c2-e191-436f-8b1f-fd82c3986e13\", \"run_properties\": {\"run_id\": \"AutoML_2bb460c2-e191-436f-8b1f-fd82c3986e13\", \"created_utc\": \"2021-01-11T13:28:09.979061Z\", \"properties\": {\"num_iterations\": \"1000\", \"training_type\": \"TrainFull\", \"acquisition_function\": \"EI\", \"primary_metric\": \"accuracy\", \"train_split\": \"0\", \"acquisition_parameter\": \"0\", \"num_cross_validation\": null, \"target\": \"capstone-compute\", \"AMLSettingsJsonString\": \"{\\\"path\\\":null,\\\"name\\\":\\\"capstone-automl\\\",\\\"subscription_id\\\":\\\"510b94ba-e453-4417-988b-fbdc37b55ca7\\\",\\\"resource_group\\\":\\\"aml-quickstarts-134329\\\",\\\"workspace_name\\\":\\\"ws-capstone\\\",\\\"region\\\":\\\"eastus2\\\",\\\"compute_target\\\":\\\"capstone-compute\\\",\\\"spark_service\\\":null,\\\"azure_service\\\":\\\"remote\\\",\\\"many_models\\\":false,\\\"pipeline_fetch_max_batch_size\\\":1,\\\"iterations\\\":1000,\\\"primary_metric\\\":\\\"accuracy\\\",\\\"task_type\\\":\\\"classification\\\",\\\"data_script\\\":null,\\\"validation_size\\\":0.0,\\\"n_cross_validations\\\":null,\\\"y_min\\\":null,\\\"y_max\\\":null,\\\"num_classes\\\":null,\\\"featurization\\\":\\\"auto\\\",\\\"_ignore_package_version_incompatibilities\\\":false,\\\"is_timeseries\\\":false,\\\"max_cores_per_iteration\\\":1,\\\"max_concurrent_iterations\\\":1,\\\"iteration_timeout_minutes\\\":null,\\\"mem_in_mb\\\":null,\\\"enforce_time_on_windows\\\":false,\\\"experiment_timeout_minutes\\\":20,\\\"experiment_exit_score\\\":0.9984,\\\"whitelist_models\\\":null,\\\"blacklist_algos\\\":[\\\"KNN\\\",\\\"LinearSVM\\\",\\\"TensorFlowLinearClassifier\\\",\\\"TensorFlowDNN\\\"],\\\"supported_models\\\":[\\\"AveragedPerceptronClassifier\\\",\\\"LinearSVM\\\",\\\"MultinomialNaiveBayes\\\",\\\"SVM\\\",\\\"ExtremeRandomTrees\\\",\\\"TensorFlowDNN\\\",\\\"DecisionTree\\\",\\\"BernoulliNaiveBayes\\\",\\\"KNN\\\",\\\"GradientBoosting\\\",\\\"XGBoostClassifier\\\",\\\"RandomForest\\\",\\\"LogisticRegression\\\",\\\"TensorFlowLinearClassifier\\\",\\\"SGD\\\",\\\"LightGBM\\\"],\\\"auto_blacklist\\\":true,\\\"blacklist_samples_reached\\\":false,\\\"exclude_nan_labels\\\":true,\\\"verbosity\\\":20,\\\"_debug_log\\\":\\\"azureml_automl.log\\\",\\\"show_warnings\\\":false,\\\"model_explainability\\\":true,\\\"service_url\\\":null,\\\"sdk_url\\\":null,\\\"sdk_packages\\\":null,\\\"enable_onnx_compatible_models\\\":true,\\\"enable_split_onnx_featurizer_estimator_models\\\":false,\\\"vm_type\\\":\\\"STANDARD_D2_V2\\\",\\\"telemetry_verbosity\\\":20,\\\"send_telemetry\\\":true,\\\"enable_dnn\\\":false,\\\"scenario\\\":\\\"SDK-1.13.0\\\",\\\"environment_label\\\":null,\\\"force_text_dnn\\\":false,\\\"enable_feature_sweeping\\\":false,\\\"enable_early_stopping\\\":true,\\\"early_stopping_n_iters\\\":10,\\\"metrics\\\":null,\\\"enable_ensembling\\\":true,\\\"enable_stack_ensembling\\\":false,\\\"ensemble_iterations\\\":15,\\\"enable_tf\\\":false,\\\"enable_subsampling\\\":null,\\\"subsample_seed\\\":null,\\\"enable_nimbusml\\\":false,\\\"enable_streaming\\\":false,\\\"force_streaming\\\":false,\\\"track_child_runs\\\":true,\\\"allowed_private_models\\\":[],\\\"label_column_name\\\":\\\"target\\\",\\\"weight_column_name\\\":null,\\\"cv_split_column_names\\\":null,\\\"enable_local_managed\\\":false,\\\"_local_managed_run_id\\\":null,\\\"cost_mode\\\":1,\\\"lag_length\\\":0,\\\"metric_operation\\\":\\\"maximize\\\",\\\"preprocess\\\":true}\", \"DataPrepJsonString\": \"{\\\\\\\"training_data\\\\\\\": \\\\\\\"{\\\\\\\\\\\\\\\"blocks\\\\\\\\\\\\\\\": [{\\\\\\\\\\\\\\\"id\\\\\\\\\\\\\\\": \\\\\\\\\\\\\\\"a18d9e10-0c6f-4a57-93a1-01e65a72e0f8\\\\\\\\\\\\\\\", \\\\\\\\\\\\\\\"type\\\\\\\\\\\\\\\": \\\\\\\\\\\\\\\"Microsoft.DPrep.GetFilesBlock\\\\\\\\\\\\\\\", \\\\\\\\\\\\\\\"arguments\\\\\\\\\\\\\\\": {\\\\\\\\\\\\\\\"isArchive\\\\\\\\\\\\\\\": false, \\\\\\\\\\\\\\\"path\\\\\\\\\\\\\\\": {\\\\\\\\\\\\\\\"target\\\\\\\\\\\\\\\": 4, \\\\\\\\\\\\\\\"resourceDetails\\\\\\\\\\\\\\\": [{\\\\\\\\\\\\\\\"path\\\\\\\\\\\\\\\": \\\\\\\\\\\\\\\"https://raw.githubusercontent.com/krishula/AzureMLCapstone/main/heart.csv\\\\\\\\\\\\\\\"}]}}, \\\\\\\\\\\\\\\"localData\\\\\\\\\\\\\\\": {}, \\\\\\\\\\\\\\\"isEnabled\\\\\\\\\\\\\\\": true, \\\\\\\\\\\\\\\"name\\\\\\\\\\\\\\\": null, \\\\\\\\\\\\\\\"annotation\\\\\\\\\\\\\\\": null}, {\\\\\\\\\\\\\\\"id\\\\\\\\\\\\\\\": \\\\\\\\\\\\\\\"9acd3642-d5fe-4f7d-9d82-e48897b5a88d\\\\\\\\\\\\\\\", \\\\\\\\\\\\\\\"type\\\\\\\\\\\\\\\": \\\\\\\\\\\\\\\"Microsoft.DPrep.ParseDelimitedBlock\\\\\\\\\\\\\\\", \\\\\\\\\\\\\\\"arguments\\\\\\\\\\\\\\\": {\\\\\\\\\\\\\\\"columnHeadersMode\\\\\\\\\\\\\\\": 3, \\\\\\\\\\\\\\\"fileEncoding\\\\\\\\\\\\\\\": 0, \\\\\\\\\\\\\\\"handleQuotedLineBreaks\\\\\\\\\\\\\\\": false, \\\\\\\\\\\\\\\"preview\\\\\\\\\\\\\\\": false, \\\\\\\\\\\\\\\"separator\\\\\\\\\\\\\\\": \\\\\\\\\\\\\\\",\\\\\\\\\\\\\\\", \\\\\\\\\\\\\\\"skipRows\\\\\\\\\\\\\\\": 0, \\\\\\\\\\\\\\\"skipRowsMode\\\\\\\\\\\\\\\": 0}, \\\\\\\\\\\\\\\"localData\\\\\\\\\\\\\\\": {}, \\\\\\\\\\\\\\\"isEnabled\\\\\\\\\\\\\\\": true, \\\\\\\\\\\\\\\"name\\\\\\\\\\\\\\\": null, \\\\\\\\\\\\\\\"annotation\\\\\\\\\\\\\\\": null}, {\\\\\\\\\\\\\\\"id\\\\\\\\\\\\\\\": \\\\\\\\\\\\\\\"41962b9f-3132-4cbd-a4a0-b6a10823a48f\\\\\\\\\\\\\\\", \\\\\\\\\\\\\\\"type\\\\\\\\\\\\\\\": \\\\\\\\\\\\\\\"Microsoft.DPrep.DropColumnsBlock\\\\\\\\\\\\\\\", \\\\\\\\\\\\\\\"arguments\\\\\\\\\\\\\\\": {\\\\\\\\\\\\\\\"columns\\\\\\\\\\\\\\\": {\\\\\\\\\\\\\\\"type\\\\\\\\\\\\\\\": 0, \\\\\\\\\\\\\\\"details\\\\\\\\\\\\\\\": {\\\\\\\\\\\\\\\"selectedColumns\\\\\\\\\\\\\\\": [\\\\\\\\\\\\\\\"Path\\\\\\\\\\\\\\\"]}}}, \\\\\\\\\\\\\\\"localData\\\\\\\\\\\\\\\": {}, \\\\\\\\\\\\\\\"isEnabled\\\\\\\\\\\\\\\": true, \\\\\\\\\\\\\\\"name\\\\\\\\\\\\\\\": null, \\\\\\\\\\\\\\\"annotation\\\\\\\\\\\\\\\": null}, {\\\\\\\\\\\\\\\"id\\\\\\\\\\\\\\\": \\\\\\\\\\\\\\\"3e5bebd4-ecfe-408a-9d86-e954bfcadcd6\\\\\\\\\\\\\\\", \\\\\\\\\\\\\\\"type\\\\\\\\\\\\\\\": \\\\\\\\\\\\\\\"Microsoft.DPrep.SetColumnTypesBlock\\\\\\\\\\\\\\\", \\\\\\\\\\\\\\\"arguments\\\\\\\\\\\\\\\": {\\\\\\\\\\\\\\\"columnConversion\\\\\\\\\\\\\\\": [{\\\\\\\\\\\\\\\"column\\\\\\\\\\\\\\\": {\\\\\\\\\\\\\\\"type\\\\\\\\\\\\\\\": 2, \\\\\\\\\\\\\\\"details\\\\\\\\\\\\\\\": {\\\\\\\\\\\\\\\"selectedColumn\\\\\\\\\\\\\\\": \\\\\\\\\\\\\\\"age\\\\\\\\\\\\\\\"}}, \\\\\\\\\\\\\\\"typeProperty\\\\\\\\\\\\\\\": 2}, {\\\\\\\\\\\\\\\"column\\\\\\\\\\\\\\\": {\\\\\\\\\\\\\\\"type\\\\\\\\\\\\\\\": 2, \\\\\\\\\\\\\\\"details\\\\\\\\\\\\\\\": {\\\\\\\\\\\\\\\"selectedColumn\\\\\\\\\\\\\\\": \\\\\\\\\\\\\\\"sex\\\\\\\\\\\\\\\"}}, \\\\\\\\\\\\\\\"typeProperty\\\\\\\\\\\\\\\": 2}, {\\\\\\\\\\\\\\\"column\\\\\\\\\\\\\\\": {\\\\\\\\\\\\\\\"type\\\\\\\\\\\\\\\": 2, \\\\\\\\\\\\\\\"details\\\\\\\\\\\\\\\": {\\\\\\\\\\\\\\\"selectedColumn\\\\\\\\\\\\\\\": \\\\\\\\\\\\\\\"cp\\\\\\\\\\\\\\\"}}, \\\\\\\\\\\\\\\"typeProperty\\\\\\\\\\\\\\\": 2}, {\\\\\\\\\\\\\\\"column\\\\\\\\\\\\\\\": {\\\\\\\\\\\\\\\"type\\\\\\\\\\\\\\\": 2, \\\\\\\\\\\\\\\"details\\\\\\\\\\\\\\\": {\\\\\\\\\\\\\\\"selectedColumn\\\\\\\\\\\\\\\": \\\\\\\\\\\\\\\"trestbps\\\\\\\\\\\\\\\"}}, \\\\\\\\\\\\\\\"typeProperty\\\\\\\\\\\\\\\": 2}, {\\\\\\\\\\\\\\\"column\\\\\\\\\\\\\\\": {\\\\\\\\\\\\\\\"type\\\\\\\\\\\\\\\": 2, \\\\\\\\\\\\\\\"details\\\\\\\\\\\\\\\": {\\\\\\\\\\\\\\\"selectedColumn\\\\\\\\\\\\\\\": \\\\\\\\\\\\\\\"chol\\\\\\\\\\\\\\\"}}, \\\\\\\\\\\\\\\"typeProperty\\\\\\\\\\\\\\\": 2}, {\\\\\\\\\\\\\\\"column\\\\\\\\\\\\\\\": {\\\\\\\\\\\\\\\"type\\\\\\\\\\\\\\\": 2, \\\\\\\\\\\\\\\"details\\\\\\\\\\\\\\\": {\\\\\\\\\\\\\\\"selectedColumn\\\\\\\\\\\\\\\": \\\\\\\\\\\\\\\"fbs\\\\\\\\\\\\\\\"}}, \\\\\\\\\\\\\\\"typeProperty\\\\\\\\\\\\\\\": 2}, {\\\\\\\\\\\\\\\"column\\\\\\\\\\\\\\\": {\\\\\\\\\\\\\\\"type\\\\\\\\\\\\\\\": 2, \\\\\\\\\\\\\\\"details\\\\\\\\\\\\\\\": {\\\\\\\\\\\\\\\"selectedColumn\\\\\\\\\\\\\\\": \\\\\\\\\\\\\\\"restecg\\\\\\\\\\\\\\\"}}, \\\\\\\\\\\\\\\"typeProperty\\\\\\\\\\\\\\\": 2}, {\\\\\\\\\\\\\\\"column\\\\\\\\\\\\\\\": {\\\\\\\\\\\\\\\"type\\\\\\\\\\\\\\\": 2, \\\\\\\\\\\\\\\"details\\\\\\\\\\\\\\\": {\\\\\\\\\\\\\\\"selectedColumn\\\\\\\\\\\\\\\": \\\\\\\\\\\\\\\"thalach\\\\\\\\\\\\\\\"}}, \\\\\\\\\\\\\\\"typeProperty\\\\\\\\\\\\\\\": 2}, {\\\\\\\\\\\\\\\"column\\\\\\\\\\\\\\\": {\\\\\\\\\\\\\\\"type\\\\\\\\\\\\\\\": 2, \\\\\\\\\\\\\\\"details\\\\\\\\\\\\\\\": {\\\\\\\\\\\\\\\"selectedColumn\\\\\\\\\\\\\\\": \\\\\\\\\\\\\\\"exang\\\\\\\\\\\\\\\"}}, \\\\\\\\\\\\\\\"typeProperty\\\\\\\\\\\\\\\": 2}, {\\\\\\\\\\\\\\\"column\\\\\\\\\\\\\\\": {\\\\\\\\\\\\\\\"type\\\\\\\\\\\\\\\": 2, \\\\\\\\\\\\\\\"details\\\\\\\\\\\\\\\": {\\\\\\\\\\\\\\\"selectedColumn\\\\\\\\\\\\\\\": \\\\\\\\\\\\\\\"oldpeak\\\\\\\\\\\\\\\"}}, \\\\\\\\\\\\\\\"typeProperty\\\\\\\\\\\\\\\": 3}, {\\\\\\\\\\\\\\\"column\\\\\\\\\\\\\\\": {\\\\\\\\\\\\\\\"type\\\\\\\\\\\\\\\": 2, \\\\\\\\\\\\\\\"details\\\\\\\\\\\\\\\": {\\\\\\\\\\\\\\\"selectedColumn\\\\\\\\\\\\\\\": \\\\\\\\\\\\\\\"slope\\\\\\\\\\\\\\\"}}, \\\\\\\\\\\\\\\"typeProperty\\\\\\\\\\\\\\\": 2}, {\\\\\\\\\\\\\\\"column\\\\\\\\\\\\\\\": {\\\\\\\\\\\\\\\"type\\\\\\\\\\\\\\\": 2, \\\\\\\\\\\\\\\"details\\\\\\\\\\\\\\\": {\\\\\\\\\\\\\\\"selectedColumn\\\\\\\\\\\\\\\": \\\\\\\\\\\\\\\"ca\\\\\\\\\\\\\\\"}}, \\\\\\\\\\\\\\\"typeProperty\\\\\\\\\\\\\\\": 2}, {\\\\\\\\\\\\\\\"column\\\\\\\\\\\\\\\": {\\\\\\\\\\\\\\\"type\\\\\\\\\\\\\\\": 2, \\\\\\\\\\\\\\\"details\\\\\\\\\\\\\\\": {\\\\\\\\\\\\\\\"selectedColumn\\\\\\\\\\\\\\\": \\\\\\\\\\\\\\\"thal\\\\\\\\\\\\\\\"}}, \\\\\\\\\\\\\\\"typeProperty\\\\\\\\\\\\\\\": 2}, {\\\\\\\\\\\\\\\"column\\\\\\\\\\\\\\\": {\\\\\\\\\\\\\\\"type\\\\\\\\\\\\\\\": 2, \\\\\\\\\\\\\\\"details\\\\\\\\\\\\\\\": {\\\\\\\\\\\\\\\"selectedColumn\\\\\\\\\\\\\\\": \\\\\\\\\\\\\\\"target\\\\\\\\\\\\\\\"}}, \\\\\\\\\\\\\\\"typeProperty\\\\\\\\\\\\\\\": 2}]}, \\\\\\\\\\\\\\\"localData\\\\\\\\\\\\\\\": {}, \\\\\\\\\\\\\\\"isEnabled\\\\\\\\\\\\\\\": true, \\\\\\\\\\\\\\\"name\\\\\\\\\\\\\\\": null, \\\\\\\\\\\\\\\"annotation\\\\\\\\\\\\\\\": null}], \\\\\\\\\\\\\\\"inspectors\\\\\\\\\\\\\\\": [], \\\\\\\\\\\\\\\"meta\\\\\\\\\\\\\\\": {\\\\\\\\\\\\\\\"savedDatasetId\\\\\\\\\\\\\\\": \\\\\\\\\\\\\\\"a060ac27-5b9e-4b65-8466-d94367b2243f\\\\\\\\\\\\\\\", \\\\\\\\\\\\\\\"datasetType\\\\\\\\\\\\\\\": \\\\\\\\\\\\\\\"tabular\\\\\\\\\\\\\\\", \\\\\\\\\\\\\\\"subscriptionId\\\\\\\\\\\\\\\": \\\\\\\\\\\\\\\"510b94ba-e453-4417-988b-fbdc37b55ca7\\\\\\\\\\\\\\\", \\\\\\\\\\\\\\\"workspaceId\\\\\\\\\\\\\\\": \\\\\\\\\\\\\\\"dfc9a7dc-9016-48f3-b488-5f8f8266ea30\\\\\\\\\\\\\\\", \\\\\\\\\\\\\\\"workspaceLocation\\\\\\\\\\\\\\\": \\\\\\\\\\\\\\\"eastus2\\\\\\\\\\\\\\\"}}\\\\\\\", \\\\\\\"activities\\\\\\\": 0}\", \"EnableSubsampling\": null, \"runTemplate\": \"AutoML\", \"azureml.runsource\": \"automl\", \"display_task_type\": \"classification\", \"dependencies_versions\": \"{\\\"azureml-widgets\\\": \\\"1.19.0\\\", \\\"azureml-train\\\": \\\"1.19.0\\\", \\\"azureml-train-restclients-hyperdrive\\\": \\\"1.19.0\\\", \\\"azureml-train-core\\\": \\\"1.19.0\\\", \\\"azureml-train-automl\\\": \\\"1.19.0\\\", \\\"azureml-train-automl-runtime\\\": \\\"1.19.0\\\", \\\"azureml-train-automl-client\\\": \\\"1.19.0\\\", \\\"azureml-tensorboard\\\": \\\"1.19.0\\\", \\\"azureml-telemetry\\\": \\\"1.19.0\\\", \\\"azureml-sdk\\\": \\\"1.19.0\\\", \\\"azureml-samples\\\": \\\"0+unknown\\\", \\\"azureml-pipeline\\\": \\\"1.19.0\\\", \\\"azureml-pipeline-steps\\\": \\\"1.19.0\\\", \\\"azureml-pipeline-core\\\": \\\"1.19.0\\\", \\\"azureml-opendatasets\\\": \\\"1.19.0\\\", \\\"azureml-model-management-sdk\\\": \\\"1.0.1b6.post1\\\", \\\"azureml-mlflow\\\": \\\"1.19.0\\\", \\\"azureml-interpret\\\": \\\"1.19.0\\\", \\\"azureml-explain-model\\\": \\\"1.19.0\\\", \\\"azureml-defaults\\\": \\\"1.19.0\\\", \\\"azureml-dataset-runtime\\\": \\\"1.19.0\\\", \\\"azureml-dataprep\\\": \\\"2.6.1\\\", \\\"azureml-dataprep-rslex\\\": \\\"1.4.0\\\", \\\"azureml-dataprep-native\\\": \\\"26.0.0\\\", \\\"azureml-datadrift\\\": \\\"1.19.0\\\", \\\"azureml-core\\\": \\\"1.19.0\\\", \\\"azureml-contrib-services\\\": \\\"1.19.0\\\", \\\"azureml-contrib-server\\\": \\\"1.19.0\\\", \\\"azureml-contrib-reinforcementlearning\\\": \\\"1.19.0\\\", \\\"azureml-contrib-pipeline-steps\\\": \\\"1.19.0\\\", \\\"azureml-contrib-notebook\\\": \\\"1.19.0\\\", \\\"azureml-contrib-interpret\\\": \\\"1.19.0\\\", \\\"azureml-contrib-gbdt\\\": \\\"1.19.0\\\", \\\"azureml-contrib-fairness\\\": \\\"1.19.0\\\", \\\"azureml-contrib-dataset\\\": \\\"1.19.0\\\", \\\"azureml-cli-common\\\": \\\"1.19.0\\\", \\\"azureml-automl-runtime\\\": \\\"1.19.0\\\", \\\"azureml-automl-core\\\": \\\"1.19.0\\\", \\\"azureml-accel-models\\\": \\\"1.19.0\\\"}\", \"_aml_system_scenario_identification\": \"Remote.Parent\", \"ClientType\": \"SDK\", \"environment_cpu_name\": \"AzureML-AutoML\", \"environment_cpu_label\": \"prod\", \"environment_gpu_name\": \"AzureML-AutoML-GPU\", \"environment_gpu_label\": \"prod\", \"root_attribution\": \"automl\", \"attribution\": \"AutoML\", \"Orchestrator\": \"AutoML\", \"CancelUri\": \"https://eastus2.experiments.azureml.net/jasmine/v1.0/subscriptions/510b94ba-e453-4417-988b-fbdc37b55ca7/resourceGroups/aml-quickstarts-134329/providers/Microsoft.MachineLearningServices/workspaces/ws-capstone/experimentids/290ef41b-abf3-4b82-820e-6b54f92d4452/cancel/AutoML_2bb460c2-e191-436f-8b1f-fd82c3986e13\", \"ClientSdkVersion\": \"1.19.0\", \"snapshotId\": \"00000000-0000-0000-0000-000000000000\", \"SetupRunId\": \"AutoML_2bb460c2-e191-436f-8b1f-fd82c3986e13_setup\", \"SetupRunContainerId\": \"dcid.AutoML_2bb460c2-e191-436f-8b1f-fd82c3986e13_setup\", \"FeaturizationRunJsonPath\": \"featurizer_container.json\", \"FeaturizationRunId\": \"AutoML_2bb460c2-e191-436f-8b1f-fd82c3986e13_featurize\", \"ProblemInfoJsonString\": \"{\\\"dataset_num_categorical\\\": 0, \\\"is_sparse\\\": false, \\\"subsampling\\\": false, \\\"dataset_classes\\\": 2, \\\"dataset_features\\\": 13, \\\"dataset_samples\\\": 303, \\\"single_frequency_class_detected\\\": false}\", \"ModelExplainRunId\": \"AutoML_2bb460c2-e191-436f-8b1f-fd82c3986e13_ModelExplain\"}, \"tags\": {\"model_explain_run\": \"best_run\", \"_aml_system_azureml.automlComponent\": \"AutoML\", \"pipeline_id\": \"\", \"score\": \"\", \"predicted_cost\": \"\", \"fit_time\": \"\", \"training_percent\": \"\", \"iteration\": \"\", \"run_preprocessor\": \"\", \"run_algorithm\": \"\", \"automl_best_child_run_id\": \"AutoML_2bb460c2-e191-436f-8b1f-fd82c3986e13_18\", \"model_explain_best_run_child_id\": \"AutoML_2bb460c2-e191-436f-8b1f-fd82c3986e13_18\"}, \"end_time_utc\": \"2021-01-11T13:58:37.400182Z\", \"status\": \"Completed\", \"log_files\": {}, \"log_groups\": [], \"run_duration\": \"0:30:27\"}, \"child_runs\": [{\"run_id\": \"AutoML_2bb460c2-e191-436f-8b1f-fd82c3986e13_0\", \"run_number\": 10, \"metric\": null, \"status\": \"Completed\", \"run_type\": \"azureml.scriptrun\", \"training_percent\": \"100\", \"start_time\": \"2021-01-11T13:36:57.694201Z\", \"end_time\": \"2021-01-11T13:37:44.596829Z\", \"created_time\": \"2021-01-11T13:36:43.027438Z\", \"created_time_dt\": \"2021-01-11T13:36:43.027438Z\", \"duration\": \"0:01:01\", \"iteration\": \"0\", \"goal\": \"accuracy_max\", \"run_name\": \"MaxAbsScaler, LightGBM\", \"run_properties\": \"copy=True\", \"primary_metric\": 0.80827957, \"best_metric\": 0.80827957}, {\"run_id\": \"AutoML_2bb460c2-e191-436f-8b1f-fd82c3986e13_1\", \"run_number\": 11, \"metric\": null, \"status\": \"Completed\", \"run_type\": \"azureml.scriptrun\", \"training_percent\": \"100\", \"start_time\": \"2021-01-11T13:38:00.691075Z\", \"end_time\": \"2021-01-11T13:38:55.332593Z\", \"created_time\": \"2021-01-11T13:37:46.2141Z\", \"created_time_dt\": \"2021-01-11T13:37:46.2141Z\", \"duration\": \"0:01:09\", \"iteration\": \"1\", \"goal\": \"accuracy_max\", \"run_name\": \"MaxAbsScaler, XGBoostClassifier\", \"run_properties\": \"copy=True\", \"primary_metric\": 0.81129032, \"best_metric\": 0.81129032}, {\"run_id\": \"AutoML_2bb460c2-e191-436f-8b1f-fd82c3986e13_2\", \"run_number\": 12, \"metric\": null, \"status\": \"Completed\", \"run_type\": \"azureml.scriptrun\", \"training_percent\": \"100\", \"start_time\": \"2021-01-11T13:39:09.910222Z\", \"end_time\": \"2021-01-11T13:39:54.595946Z\", \"created_time\": \"2021-01-11T13:38:57.692178Z\", \"created_time_dt\": \"2021-01-11T13:38:57.692178Z\", \"duration\": \"0:00:56\", \"iteration\": \"2\", \"goal\": \"accuracy_max\", \"run_name\": \"MinMaxScaler, RandomForest\", \"run_properties\": \"copy=True, feature_range=(0, 1\", \"primary_metric\": 0.80817204, \"best_metric\": 0.81129032}, {\"run_id\": \"AutoML_2bb460c2-e191-436f-8b1f-fd82c3986e13_3\", \"run_number\": 13, \"metric\": null, \"status\": \"Completed\", \"run_type\": \"azureml.scriptrun\", \"training_percent\": \"100\", \"start_time\": \"2021-01-11T13:40:12.350713Z\", \"end_time\": \"2021-01-11T13:40:57.821577Z\", \"created_time\": \"2021-01-11T13:39:56.975731Z\", \"created_time_dt\": \"2021-01-11T13:39:56.975731Z\", \"duration\": \"0:01:00\", \"iteration\": \"3\", \"goal\": \"accuracy_max\", \"run_name\": \"MinMaxScaler, RandomForest\", \"run_properties\": \"copy=True, feature_range=(0, 1\", \"primary_metric\": 0.80505376, \"best_metric\": 0.81129032}, {\"run_id\": \"AutoML_2bb460c2-e191-436f-8b1f-fd82c3986e13_4\", \"run_number\": 14, \"metric\": null, \"status\": \"Completed\", \"run_type\": \"azureml.scriptrun\", \"training_percent\": \"100\", \"start_time\": \"2021-01-11T13:41:15.514511Z\", \"end_time\": \"2021-01-11T13:42:09.662137Z\", \"created_time\": \"2021-01-11T13:41:00.720549Z\", \"created_time_dt\": \"2021-01-11T13:41:00.720549Z\", \"duration\": \"0:01:08\", \"iteration\": \"4\", \"goal\": \"accuracy_max\", \"run_name\": \"MinMaxScaler, RandomForest\", \"run_properties\": \"copy=True, feature_range=(0, 1\", \"primary_metric\": 0.80150538, \"best_metric\": 0.81129032}, {\"run_id\": \"AutoML_2bb460c2-e191-436f-8b1f-fd82c3986e13_5\", \"run_number\": 15, \"metric\": null, \"status\": \"Completed\", \"run_type\": \"azureml.scriptrun\", \"training_percent\": \"100\", \"start_time\": \"2021-01-11T13:42:26.625111Z\", \"end_time\": \"2021-01-11T13:43:14.891417Z\", \"created_time\": \"2021-01-11T13:42:13.529153Z\", \"created_time_dt\": \"2021-01-11T13:42:13.529153Z\", \"duration\": \"0:01:01\", \"iteration\": \"5\", \"goal\": \"accuracy_max\", \"run_name\": \"MinMaxScaler, SVM\", \"run_properties\": \"copy=True, feature_range=(0, 1\", \"primary_metric\": 0.78817204, \"best_metric\": 0.81129032}, {\"run_id\": \"AutoML_2bb460c2-e191-436f-8b1f-fd82c3986e13_6\", \"run_number\": 16, \"metric\": null, \"status\": \"Completed\", \"run_type\": \"azureml.scriptrun\", \"training_percent\": \"100\", \"start_time\": \"2021-01-11T13:43:32.674674Z\", \"end_time\": \"2021-01-11T13:44:39.732788Z\", \"created_time\": \"2021-01-11T13:43:18.01747Z\", \"created_time_dt\": \"2021-01-11T13:43:18.01747Z\", \"duration\": \"0:01:21\", \"iteration\": \"6\", \"goal\": \"accuracy_max\", \"run_name\": \"MaxAbsScaler, GradientBoosting\", \"run_properties\": \"copy=True\", \"primary_metric\": 0.83806452, \"best_metric\": 0.83806452}, {\"run_id\": \"AutoML_2bb460c2-e191-436f-8b1f-fd82c3986e13_7\", \"run_number\": 17, \"metric\": null, \"status\": \"Completed\", \"run_type\": \"azureml.scriptrun\", \"training_percent\": \"100\", \"start_time\": \"2021-01-11T13:44:55.561532Z\", \"end_time\": \"2021-01-11T13:45:49.121511Z\", \"created_time\": \"2021-01-11T13:44:42.570629Z\", \"created_time_dt\": \"2021-01-11T13:44:42.570629Z\", \"duration\": \"0:01:06\", \"iteration\": \"7\", \"goal\": \"accuracy_max\", \"run_name\": \"StandardScalerWrapper, RandomForest\", \"run_properties\": \"<azureml.automl.runtime.shared.model_wrappers.StandardScalerWrapper object at 0x7fe98a79f278\", \"primary_metric\": 0.82483871, \"best_metric\": 0.83806452}, {\"run_id\": \"AutoML_2bb460c2-e191-436f-8b1f-fd82c3986e13_8\", \"run_number\": 18, \"metric\": null, \"status\": \"Completed\", \"run_type\": \"azureml.scriptrun\", \"training_percent\": \"100\", \"start_time\": \"2021-01-11T13:46:03.442715Z\", \"end_time\": \"2021-01-11T13:46:57.817542Z\", \"created_time\": \"2021-01-11T13:45:51.368062Z\", \"created_time_dt\": \"2021-01-11T13:45:51.368062Z\", \"duration\": \"0:01:06\", \"iteration\": \"8\", \"goal\": \"accuracy_max\", \"run_name\": \"StandardScalerWrapper, RandomForest\", \"run_properties\": \"<azureml.automl.runtime.shared.model_wrappers.StandardScalerWrapper object at 0x7f45a9d56b00\", \"primary_metric\": 0.8411828, \"best_metric\": 0.8411828}, {\"run_id\": \"AutoML_2bb460c2-e191-436f-8b1f-fd82c3986e13_9\", \"run_number\": 19, \"metric\": null, \"status\": \"Completed\", \"run_type\": \"azureml.scriptrun\", \"training_percent\": \"100\", \"start_time\": \"2021-01-11T13:47:13.984509Z\", \"end_time\": \"2021-01-11T13:48:08.295542Z\", \"created_time\": \"2021-01-11T13:47:01.248555Z\", \"created_time_dt\": \"2021-01-11T13:47:01.248555Z\", \"duration\": \"0:01:07\", \"iteration\": \"9\", \"goal\": \"accuracy_max\", \"run_name\": \"SparseNormalizer, XGBoostClassifier\", \"run_properties\": \"<azureml.automl.runtime.shared.model_wrappers.SparseNormalizer object at 0x7f8f0bb33470\", \"primary_metric\": 0.83129032, \"best_metric\": 0.8411828}, {\"run_id\": \"AutoML_2bb460c2-e191-436f-8b1f-fd82c3986e13_10\", \"run_number\": 20, \"metric\": null, \"status\": \"Completed\", \"run_type\": \"azureml.scriptrun\", \"training_percent\": \"100\", \"start_time\": \"2021-01-11T13:48:26.236156Z\", \"end_time\": \"2021-01-11T13:49:15.297151Z\", \"created_time\": \"2021-01-11T13:48:11.47758Z\", \"created_time_dt\": \"2021-01-11T13:48:11.47758Z\", \"duration\": \"0:01:03\", \"iteration\": \"10\", \"goal\": \"accuracy_max\", \"run_name\": \"RobustScaler, ExtremeRandomTrees\", \"run_properties\": \"copy=True, quantile_range=[25, 75], with_centering=True,\\n             with_scaling=False\", \"primary_metric\": 0.8083871, \"best_metric\": 0.8411828}, {\"run_id\": \"AutoML_2bb460c2-e191-436f-8b1f-fd82c3986e13_11\", \"run_number\": 21, \"metric\": null, \"status\": \"Completed\", \"run_type\": \"azureml.scriptrun\", \"training_percent\": \"100\", \"start_time\": \"2021-01-11T13:49:33.242962Z\", \"end_time\": \"2021-01-11T13:50:20.37475Z\", \"created_time\": \"2021-01-11T13:49:18.098679Z\", \"created_time_dt\": \"2021-01-11T13:49:18.098679Z\", \"duration\": \"0:01:02\", \"iteration\": \"11\", \"goal\": \"accuracy_max\", \"run_name\": \"MinMaxScaler, LightGBM\", \"run_properties\": \"copy=True, feature_range=(0, 1\", \"primary_metric\": 0.83150538, \"best_metric\": 0.8411828}, {\"run_id\": \"AutoML_2bb460c2-e191-436f-8b1f-fd82c3986e13_12\", \"run_number\": 22, \"metric\": null, \"status\": \"Completed\", \"run_type\": \"azureml.scriptrun\", \"training_percent\": \"100\", \"start_time\": \"2021-01-11T13:50:38.282548Z\", \"end_time\": \"2021-01-11T13:51:21.755687Z\", \"created_time\": \"2021-01-11T13:50:22.833691Z\", \"created_time_dt\": \"2021-01-11T13:50:22.833691Z\", \"duration\": \"0:00:58\", \"iteration\": \"12\", \"goal\": \"accuracy_max\", \"run_name\": \"StandardScalerWrapper, RandomForest\", \"run_properties\": \"<azureml.automl.runtime.shared.model_wrappers.StandardScalerWrapper object at 0x7feb8efde8d0\", \"primary_metric\": 0.81817204, \"best_metric\": 0.8411828}, {\"run_id\": \"AutoML_2bb460c2-e191-436f-8b1f-fd82c3986e13_13\", \"run_number\": 23, \"metric\": null, \"status\": \"Completed\", \"run_type\": \"azureml.scriptrun\", \"training_percent\": \"100\", \"start_time\": \"2021-01-11T13:51:37.194986Z\", \"end_time\": \"2021-01-11T13:52:25.4844Z\", \"created_time\": \"2021-01-11T13:51:24.356837Z\", \"created_time_dt\": \"2021-01-11T13:51:24.356837Z\", \"duration\": \"0:01:01\", \"iteration\": \"13\", \"goal\": \"accuracy_max\", \"run_name\": \"StandardScalerWrapper, GradientBoosting\", \"run_properties\": \"<azureml.automl.runtime.shared.model_wrappers.StandardScalerWrapper object at 0x7f8d0d10f5c0\", \"primary_metric\": 0.80817204, \"best_metric\": 0.8411828}, {\"run_id\": \"AutoML_2bb460c2-e191-436f-8b1f-fd82c3986e13_14\", \"run_number\": 24, \"metric\": null, \"status\": \"Completed\", \"run_type\": \"azureml.scriptrun\", \"training_percent\": \"100\", \"start_time\": \"2021-01-11T13:52:40.612655Z\", \"end_time\": \"2021-01-11T13:53:34.917207Z\", \"created_time\": \"2021-01-11T13:52:27.613763Z\", \"created_time_dt\": \"2021-01-11T13:52:27.613763Z\", \"duration\": \"0:01:07\", \"iteration\": \"14\", \"goal\": \"accuracy_max\", \"run_name\": \"SparseNormalizer, LightGBM\", \"run_properties\": \"<azureml.automl.runtime.shared.model_wrappers.SparseNormalizer object at 0x7fc3a6a5d710\", \"primary_metric\": 0.82129032, \"best_metric\": 0.8411828}, {\"run_id\": \"AutoML_2bb460c2-e191-436f-8b1f-fd82c3986e13_15\", \"run_number\": 25, \"metric\": null, \"status\": \"Completed\", \"run_type\": \"azureml.scriptrun\", \"training_percent\": \"100\", \"start_time\": \"2021-01-11T13:53:50.254925Z\", \"end_time\": \"2021-01-11T13:54:38.717796Z\", \"created_time\": \"2021-01-11T13:53:37.675487Z\", \"created_time_dt\": \"2021-01-11T13:53:37.675487Z\", \"duration\": \"0:01:01\", \"iteration\": \"15\", \"goal\": \"accuracy_max\", \"run_name\": \"MinMaxScaler, LightGBM\", \"run_properties\": \"copy=True, feature_range=(0, 1\", \"primary_metric\": 0.8216129, \"best_metric\": 0.8411828}, {\"run_id\": \"AutoML_2bb460c2-e191-436f-8b1f-fd82c3986e13_16\", \"run_number\": 26, \"metric\": null, \"status\": \"Completed\", \"run_type\": \"azureml.scriptrun\", \"training_percent\": \"100\", \"start_time\": \"2021-01-11T13:54:53.098085Z\", \"end_time\": \"2021-01-11T13:55:40.577555Z\", \"created_time\": \"2021-01-11T13:54:41.260827Z\", \"created_time_dt\": \"2021-01-11T13:54:41.260827Z\", \"duration\": \"0:00:59\", \"iteration\": \"16\", \"goal\": \"accuracy_max\", \"run_name\": \"StandardScalerWrapper, XGBoostClassifier\", \"run_properties\": \"<azureml.automl.runtime.shared.model_wrappers.StandardScalerWrapper object at 0x7f2ab75a44e0\", \"primary_metric\": 0.79505376, \"best_metric\": 0.8411828}, {\"run_id\": \"AutoML_2bb460c2-e191-436f-8b1f-fd82c3986e13_17\", \"run_number\": 27, \"metric\": null, \"status\": \"Completed\", \"run_type\": \"azureml.scriptrun\", \"training_percent\": \"100\", \"start_time\": \"2021-01-11T13:55:55.617813Z\", \"end_time\": \"2021-01-11T13:56:51.85975Z\", \"created_time\": \"2021-01-11T13:55:44.060673Z\", \"created_time_dt\": \"2021-01-11T13:55:44.060673Z\", \"duration\": \"0:01:07\", \"iteration\": \"17\", \"goal\": \"accuracy_max\", \"run_name\": \"RobustScaler, ExtremeRandomTrees\", \"run_properties\": \"copy=True, quantile_range=[25, 75], with_centering=True,\\n             with_scaling=False\", \"primary_metric\": 0.82150538, \"best_metric\": 0.8411828}, {\"run_id\": \"AutoML_2bb460c2-e191-436f-8b1f-fd82c3986e13_18\", \"run_number\": 28, \"metric\": null, \"status\": \"Completed\", \"run_type\": \"azureml.scriptrun\", \"training_percent\": \"100\", \"start_time\": \"2021-01-11T13:57:04.521404Z\", \"end_time\": \"2021-01-11T13:58:28.649957Z\", \"created_time\": \"2021-01-11T13:56:52.692351Z\", \"created_time_dt\": \"2021-01-11T13:56:52.692351Z\", \"duration\": \"0:01:35\", \"iteration\": \"18\", \"goal\": \"accuracy_max\", \"run_name\": \"VotingEnsemble\", \"run_properties\": \"classification_labels=None,\\n                              estimators=[('8',\\n                                           Pipeline(memory=None,\\n                                                    steps=[('standardscalerwrapper',\\n                                                            <azureml.automl.runtime.shared.model_wrappers.StandardScalerWrapper object at 0x7f5df0af4828>\", \"primary_metric\": 0.8511828, \"best_metric\": 0.8511828}], \"children_metrics\": {\"categories\": [0], \"series\": {\"average_precision_score_weighted\": [{\"categories\": [\"0\", \"1\", \"2\", \"3\", \"4\", \"5\", \"6\", \"7\", \"8\", \"9\", \"10\", \"11\", \"12\", \"13\", \"14\", \"15\", \"16\", \"17\", \"18\"], \"mode\": \"markers\", \"name\": \"average_precision_score_weighted\", \"stepped\": false, \"type\": \"scatter\", \"data\": [0.8915745488665513, 0.8971724973051718, 0.915003772782169, 0.8928646765423169, 0.9084399274792793, 0.8761683470116862, 0.9200289017253167, 0.9185807094130733, 0.9225088689882233, 0.9114119779089472, 0.9117554159654336, 0.9260578677136161, 0.9114928117336214, 0.9182711796677612, 0.9161248181337035, 0.9195544428781662, 0.8837978026274307, 0.9105004562473408, 0.9275727109240621]}, {\"categories\": [\"0\", \"1\", \"2\", \"3\", \"4\", \"5\", \"6\", \"7\", \"8\", \"9\", \"10\", \"11\", \"12\", \"13\", \"14\", \"15\", \"16\", \"17\", \"18\"], \"mode\": \"lines\", \"name\": \"average_precision_score_weighted_max\", \"stepped\": true, \"type\": \"scatter\", \"data\": [0.8915745488665513, 0.8971724973051718, 0.915003772782169, 0.915003772782169, 0.915003772782169, 0.915003772782169, 0.9200289017253167, 0.9200289017253167, 0.9225088689882233, 0.9225088689882233, 0.9225088689882233, 0.9260578677136161, 0.9260578677136161, 0.9260578677136161, 0.9260578677136161, 0.9260578677136161, 0.9260578677136161, 0.9260578677136161, 0.9275727109240621]}], \"AUC_micro\": [{\"categories\": [\"0\", \"1\", \"2\", \"3\", \"4\", \"5\", \"6\", \"7\", \"8\", \"9\", \"10\", \"11\", \"12\", \"13\", \"14\", \"15\", \"16\", \"17\", \"18\"], \"mode\": \"markers\", \"name\": \"AUC_micro\", \"stepped\": false, \"type\": \"scatter\", \"data\": [0.8790788530465949, 0.8849572204879177, 0.89767510694878, 0.8870277488727021, 0.898489998843797, 0.8638999306278183, 0.9089855474621343, 0.9062695109261186, 0.9094247889929472, 0.9016874783211932, 0.8924088333911435, 0.9119485489651982, 0.8979836975372877, 0.9026063128685398, 0.9070861371256791, 0.9083030408139671, 0.8778884264076771, 0.8951425598335069, 0.9162730951555093]}, {\"categories\": [\"0\", \"1\", \"2\", \"3\", \"4\", \"5\", \"6\", \"7\", \"8\", \"9\", \"10\", \"11\", \"12\", \"13\", \"14\", \"15\", \"16\", \"17\", \"18\"], \"mode\": \"lines\", \"name\": \"AUC_micro_max\", \"stepped\": true, \"type\": \"scatter\", \"data\": [0.8790788530465949, 0.8849572204879177, 0.89767510694878, 0.89767510694878, 0.898489998843797, 0.898489998843797, 0.9089855474621343, 0.9089855474621343, 0.9094247889929472, 0.9094247889929472, 0.9094247889929472, 0.9119485489651982, 0.9119485489651982, 0.9119485489651982, 0.9119485489651982, 0.9119485489651982, 0.9119485489651982, 0.9119485489651982, 0.9162730951555093]}], \"norm_macro_recall\": [{\"categories\": [\"0\", \"1\", \"2\", \"3\", \"4\", \"5\", \"6\", \"7\", \"8\", \"9\", \"10\", \"11\", \"12\", \"13\", \"14\", \"15\", \"16\", \"17\", \"18\"], \"mode\": \"markers\", \"name\": \"norm_macro_recall\", \"stepped\": false, \"type\": \"scatter\", \"data\": [0.6082590229687753, 0.6139187227461221, 0.6137238870520603, 0.5882914247774929, 0.5923856316542075, 0.5606255758345542, 0.6716867308817773, 0.642902331156975, 0.6717958718268315, 0.6560923764058441, 0.6149374365744336, 0.6525690838229539, 0.6245781630650051, 0.5988345830296296, 0.6423981294763028, 0.6314256950479861, 0.580171879204387, 0.6281800127117465, 0.6923113694011527]}, {\"categories\": [\"0\", \"1\", \"2\", \"3\", \"4\", \"5\", \"6\", \"7\", \"8\", \"9\", \"10\", \"11\", \"12\", \"13\", \"14\", \"15\", \"16\", \"17\", \"18\"], \"mode\": \"lines\", \"name\": \"norm_macro_recall_max\", \"stepped\": true, \"type\": \"scatter\", \"data\": [0.6082590229687753, 0.6139187227461221, 0.6139187227461221, 0.6139187227461221, 0.6139187227461221, 0.6139187227461221, 0.6716867308817773, 0.6716867308817773, 0.6717958718268315, 0.6717958718268315, 0.6717958718268315, 0.6717958718268315, 0.6717958718268315, 0.6717958718268315, 0.6717958718268315, 0.6717958718268315, 0.6717958718268315, 0.6717958718268315, 0.6923113694011527]}], \"average_precision_score_micro\": [{\"categories\": [\"0\", \"1\", \"2\", \"3\", \"4\", \"5\", \"6\", \"7\", \"8\", \"9\", \"10\", \"11\", \"12\", \"13\", \"14\", \"15\", \"16\", \"17\", \"18\"], \"mode\": \"markers\", \"name\": \"average_precision_score_micro\", \"stepped\": false, \"type\": \"scatter\", \"data\": [0.8807942906200612, 0.8907041408152917, 0.9049920328956157, 0.8887427885095283, 0.9042625501111642, 0.8694503747793911, 0.9116663504684024, 0.9103556645988256, 0.9139193894527458, 0.9045263242778294, 0.895871177254192, 0.9157888842731671, 0.9033933444249878, 0.907475664023765, 0.9090369037532604, 0.910727456198795, 0.8807248034931299, 0.8991417827579283, 0.9195045143307734]}, {\"categories\": [\"0\", \"1\", \"2\", \"3\", \"4\", \"5\", \"6\", \"7\", \"8\", \"9\", \"10\", \"11\", \"12\", \"13\", \"14\", \"15\", \"16\", \"17\", \"18\"], \"mode\": \"lines\", \"name\": \"average_precision_score_micro_max\", \"stepped\": true, \"type\": \"scatter\", \"data\": [0.8807942906200612, 0.8907041408152917, 0.9049920328956157, 0.9049920328956157, 0.9049920328956157, 0.9049920328956157, 0.9116663504684024, 0.9116663504684024, 0.9139193894527458, 0.9139193894527458, 0.9139193894527458, 0.9157888842731671, 0.9157888842731671, 0.9157888842731671, 0.9157888842731671, 0.9157888842731671, 0.9157888842731671, 0.9157888842731671, 0.9195045143307734]}], \"precision_score_weighted\": [{\"categories\": [\"0\", \"1\", \"2\", \"3\", \"4\", \"5\", \"6\", \"7\", \"8\", \"9\", \"10\", \"11\", \"12\", \"13\", \"14\", \"15\", \"16\", \"17\", \"18\"], \"mode\": \"markers\", \"name\": \"precision_score_weighted\", \"stepped\": false, \"type\": \"scatter\", \"data\": [0.8163141398625269, 0.8204478325316984, 0.817430125482782, 0.8149610808952523, 0.810636223139781, 0.7958559705896044, 0.84534503807037, 0.8346861508370047, 0.8468537387484256, 0.8442577960340272, 0.8204031829970984, 0.8384510005977914, 0.8281765377839602, 0.8164371725641258, 0.8303470881321925, 0.8271963233810956, 0.8002809031663396, 0.8343009766282261, 0.8600107105832162]}, {\"categories\": [\"0\", \"1\", \"2\", \"3\", \"4\", \"5\", \"6\", \"7\", \"8\", \"9\", \"10\", \"11\", \"12\", \"13\", \"14\", \"15\", \"16\", \"17\", \"18\"], \"mode\": \"lines\", \"name\": \"precision_score_weighted_max\", \"stepped\": true, \"type\": \"scatter\", \"data\": [0.8163141398625269, 0.8204478325316984, 0.8204478325316984, 0.8204478325316984, 0.8204478325316984, 0.8204478325316984, 0.84534503807037, 0.84534503807037, 0.8468537387484256, 0.8468537387484256, 0.8468537387484256, 0.8468537387484256, 0.8468537387484256, 0.8468537387484256, 0.8468537387484256, 0.8468537387484256, 0.8468537387484256, 0.8468537387484256, 0.8600107105832162]}], \"weighted_accuracy\": [{\"categories\": [\"0\", \"1\", \"2\", \"3\", \"4\", \"5\", \"6\", \"7\", \"8\", \"9\", \"10\", \"11\", \"12\", \"13\", \"14\", \"15\", \"16\", \"17\", \"18\"], \"mode\": \"markers\", \"name\": \"weighted_accuracy\", \"stepped\": false, \"type\": \"scatter\", \"data\": [0.8118648739105845, 0.8150704154047188, 0.8091496185064923, 0.8144524988303005, 0.8060560184550735, 0.795064094104464, 0.8399897056386969, 0.8278869420829265, 0.8458128066972355, 0.8341473982680154, 0.8089545232311058, 0.8362322130152251, 0.8230150378589339, 0.8159980062323828, 0.8212223218628344, 0.826838481686299, 0.7994539316175446, 0.8277006778240287, 0.8555389501168088]}, {\"categories\": [\"0\", \"1\", \"2\", \"3\", \"4\", \"5\", \"6\", \"7\", \"8\", \"9\", \"10\", \"11\", \"12\", \"13\", \"14\", \"15\", \"16\", \"17\", \"18\"], \"mode\": \"lines\", \"name\": \"weighted_accuracy_max\", \"stepped\": true, \"type\": \"scatter\", \"data\": [0.8118648739105845, 0.8150704154047188, 0.8150704154047188, 0.8150704154047188, 0.8150704154047188, 0.8150704154047188, 0.8399897056386969, 0.8399897056386969, 0.8458128066972355, 0.8458128066972355, 0.8458128066972355, 0.8458128066972355, 0.8458128066972355, 0.8458128066972355, 0.8458128066972355, 0.8458128066972355, 0.8458128066972355, 0.8458128066972355, 0.8555389501168088]}], \"recall_score_micro\": [{\"categories\": [\"0\", \"1\", \"2\", \"3\", \"4\", \"5\", \"6\", \"7\", \"8\", \"9\", \"10\", \"11\", \"12\", \"13\", \"14\", \"15\", \"16\", \"17\", \"18\"], \"mode\": \"markers\", \"name\": \"recall_score_micro\", \"stepped\": false, \"type\": \"scatter\", \"data\": [0.8082795698924731, 0.811290322580645, 0.8081720430107525, 0.8050537634408602, 0.8015053763440859, 0.7881720430107527, 0.8380645161290323, 0.8248387096774193, 0.8411827956989247, 0.8312903225806452, 0.8083870967741937, 0.8315053763440862, 0.8181720430107529, 0.8081720430107525, 0.8212903225806454, 0.8216129032258065, 0.7950537634408602, 0.8215053763440862, 0.8511827956989249]}, {\"categories\": [\"0\", \"1\", \"2\", \"3\", \"4\", \"5\", \"6\", \"7\", \"8\", \"9\", \"10\", \"11\", \"12\", \"13\", \"14\", \"15\", \"16\", \"17\", \"18\"], \"mode\": \"lines\", \"name\": \"recall_score_micro_max\", \"stepped\": true, \"type\": \"scatter\", \"data\": [0.8082795698924731, 0.811290322580645, 0.811290322580645, 0.811290322580645, 0.811290322580645, 0.811290322580645, 0.8380645161290323, 0.8380645161290323, 0.8411827956989247, 0.8411827956989247, 0.8411827956989247, 0.8411827956989247, 0.8411827956989247, 0.8411827956989247, 0.8411827956989247, 0.8411827956989247, 0.8411827956989247, 0.8411827956989247, 0.8511827956989249]}], \"AUC_weighted\": [{\"categories\": [\"0\", \"1\", \"2\", \"3\", \"4\", \"5\", \"6\", \"7\", \"8\", \"9\", \"10\", \"11\", \"12\", \"13\", \"14\", \"15\", \"16\", \"17\", \"18\"], \"mode\": \"markers\", \"name\": \"AUC_weighted\", \"stepped\": false, \"type\": \"scatter\", \"data\": [0.8850880703833489, 0.8878279618558256, 0.9028188340440663, 0.8843387322172152, 0.8986564980713588, 0.8619855076124425, 0.9119115893709548, 0.9098714211485109, 0.9132885474375412, 0.902275343020699, 0.9029844428590559, 0.918538138203386, 0.9011442174240163, 0.9098522878623496, 0.9090393086875285, 0.9128511242799169, 0.8735889751230308, 0.9015575777135375, 0.919605118823385]}, {\"categories\": [\"0\", \"1\", \"2\", \"3\", \"4\", \"5\", \"6\", \"7\", \"8\", \"9\", \"10\", \"11\", \"12\", \"13\", \"14\", \"15\", \"16\", \"17\", \"18\"], \"mode\": \"lines\", \"name\": \"AUC_weighted_max\", \"stepped\": true, \"type\": \"scatter\", \"data\": [0.8850880703833489, 0.8878279618558256, 0.9028188340440663, 0.9028188340440663, 0.9028188340440663, 0.9028188340440663, 0.9119115893709548, 0.9119115893709548, 0.9132885474375412, 0.9132885474375412, 0.9132885474375412, 0.918538138203386, 0.918538138203386, 0.918538138203386, 0.918538138203386, 0.918538138203386, 0.918538138203386, 0.918538138203386, 0.919605118823385]}], \"accuracy\": [{\"categories\": [\"0\", \"1\", \"2\", \"3\", \"4\", \"5\", \"6\", \"7\", \"8\", \"9\", \"10\", \"11\", \"12\", \"13\", \"14\", \"15\", \"16\", \"17\", \"18\"], \"mode\": \"markers\", \"name\": \"accuracy\", \"stepped\": false, \"type\": \"scatter\", \"data\": [0.8082795698924731, 0.811290322580645, 0.8081720430107525, 0.8050537634408602, 0.8015053763440859, 0.7881720430107527, 0.8380645161290323, 0.8248387096774193, 0.8411827956989247, 0.8312903225806452, 0.8083870967741937, 0.8315053763440862, 0.8181720430107529, 0.8081720430107525, 0.8212903225806454, 0.8216129032258065, 0.7950537634408602, 0.8215053763440862, 0.8511827956989249]}, {\"categories\": [\"0\", \"1\", \"2\", \"3\", \"4\", \"5\", \"6\", \"7\", \"8\", \"9\", \"10\", \"11\", \"12\", \"13\", \"14\", \"15\", \"16\", \"17\", \"18\"], \"mode\": \"lines\", \"name\": \"accuracy_max\", \"stepped\": true, \"type\": \"scatter\", \"data\": [0.8082795698924731, 0.811290322580645, 0.811290322580645, 0.811290322580645, 0.811290322580645, 0.811290322580645, 0.8380645161290323, 0.8380645161290323, 0.8411827956989247, 0.8411827956989247, 0.8411827956989247, 0.8411827956989247, 0.8411827956989247, 0.8411827956989247, 0.8411827956989247, 0.8411827956989247, 0.8411827956989247, 0.8411827956989247, 0.8511827956989249]}], \"balanced_accuracy\": [{\"categories\": [\"0\", \"1\", \"2\", \"3\", \"4\", \"5\", \"6\", \"7\", \"8\", \"9\", \"10\", \"11\", \"12\", \"13\", \"14\", \"15\", \"16\", \"17\", \"18\"], \"mode\": \"markers\", \"name\": \"balanced_accuracy\", \"stepped\": false, \"type\": \"scatter\", \"data\": [0.8041295114843875, 0.806959361373061, 0.80686194352603, 0.7941457123887464, 0.7961928158271039, 0.7803127879172771, 0.8358433654408886, 0.8214511655784875, 0.8358979359134157, 0.828046188202922, 0.8074687182872168, 0.826284541911477, 0.8122890815325026, 0.7994172915148148, 0.8211990647381515, 0.815712847523993, 0.7900859396021935, 0.8140900063558731, 0.8461556847005763]}, {\"categories\": [\"0\", \"1\", \"2\", \"3\", \"4\", \"5\", \"6\", \"7\", \"8\", \"9\", \"10\", \"11\", \"12\", \"13\", \"14\", \"15\", \"16\", \"17\", \"18\"], \"mode\": \"lines\", \"name\": \"balanced_accuracy_max\", \"stepped\": true, \"type\": \"scatter\", \"data\": [0.8041295114843875, 0.806959361373061, 0.806959361373061, 0.806959361373061, 0.806959361373061, 0.806959361373061, 0.8358433654408886, 0.8358433654408886, 0.8358979359134157, 0.8358979359134157, 0.8358979359134157, 0.8358979359134157, 0.8358979359134157, 0.8358979359134157, 0.8358979359134157, 0.8358979359134157, 0.8358979359134157, 0.8358979359134157, 0.8461556847005763]}], \"recall_score_weighted\": [{\"categories\": [\"0\", \"1\", \"2\", \"3\", \"4\", \"5\", \"6\", \"7\", \"8\", \"9\", \"10\", \"11\", \"12\", \"13\", \"14\", \"15\", \"16\", \"17\", \"18\"], \"mode\": \"markers\", \"name\": \"recall_score_weighted\", \"stepped\": false, \"type\": \"scatter\", \"data\": [0.8082795698924731, 0.811290322580645, 0.8081720430107525, 0.8050537634408602, 0.8015053763440859, 0.7881720430107527, 0.8380645161290323, 0.8248387096774193, 0.8411827956989247, 0.8312903225806452, 0.8083870967741937, 0.8315053763440862, 0.8181720430107529, 0.8081720430107525, 0.8212903225806454, 0.8216129032258065, 0.7950537634408602, 0.8215053763440862, 0.8511827956989249]}, {\"categories\": [\"0\", \"1\", \"2\", \"3\", \"4\", \"5\", \"6\", \"7\", \"8\", \"9\", \"10\", \"11\", \"12\", \"13\", \"14\", \"15\", \"16\", \"17\", \"18\"], \"mode\": \"lines\", \"name\": \"recall_score_weighted_max\", \"stepped\": true, \"type\": \"scatter\", \"data\": [0.8082795698924731, 0.811290322580645, 0.811290322580645, 0.811290322580645, 0.811290322580645, 0.811290322580645, 0.8380645161290323, 0.8380645161290323, 0.8411827956989247, 0.8411827956989247, 0.8411827956989247, 0.8411827956989247, 0.8411827956989247, 0.8411827956989247, 0.8411827956989247, 0.8411827956989247, 0.8411827956989247, 0.8411827956989247, 0.8511827956989249]}], \"recall_score_macro\": [{\"categories\": [\"0\", \"1\", \"2\", \"3\", \"4\", \"5\", \"6\", \"7\", \"8\", \"9\", \"10\", \"11\", \"12\", \"13\", \"14\", \"15\", \"16\", \"17\", \"18\"], \"mode\": \"markers\", \"name\": \"recall_score_macro\", \"stepped\": false, \"type\": \"scatter\", \"data\": [0.8041295114843875, 0.806959361373061, 0.80686194352603, 0.7941457123887464, 0.7961928158271039, 0.7803127879172771, 0.8358433654408886, 0.8214511655784875, 0.8358979359134157, 0.828046188202922, 0.8074687182872168, 0.826284541911477, 0.8122890815325026, 0.7994172915148148, 0.8211990647381515, 0.815712847523993, 0.7900859396021935, 0.8140900063558731, 0.8461556847005763]}, {\"categories\": [\"0\", \"1\", \"2\", \"3\", \"4\", \"5\", \"6\", \"7\", \"8\", \"9\", \"10\", \"11\", \"12\", \"13\", \"14\", \"15\", \"16\", \"17\", \"18\"], \"mode\": \"lines\", \"name\": \"recall_score_macro_max\", \"stepped\": true, \"type\": \"scatter\", \"data\": [0.8041295114843875, 0.806959361373061, 0.806959361373061, 0.806959361373061, 0.806959361373061, 0.806959361373061, 0.8358433654408886, 0.8358433654408886, 0.8358979359134157, 0.8358979359134157, 0.8358979359134157, 0.8358979359134157, 0.8358979359134157, 0.8358979359134157, 0.8358979359134157, 0.8358979359134157, 0.8358979359134157, 0.8358979359134157, 0.8461556847005763]}], \"log_loss\": [{\"categories\": [\"0\", \"1\", \"2\", \"3\", \"4\", \"5\", \"6\", \"7\", \"8\", \"9\", \"10\", \"11\", \"12\", \"13\", \"14\", \"15\", \"16\", \"17\", \"18\"], \"mode\": \"markers\", \"name\": \"log_loss\", \"stepped\": false, \"type\": \"scatter\", \"data\": [0.5120134554194041, 0.44335576716506486, 0.39955406860908105, 0.4323082481552164, 0.3923638535083239, 0.46307990100329244, 0.3924008292553103, 0.4345706519325578, 0.40356635055404305, 0.4017182539555543, 0.4348025114851656, 0.4170148435961204, 0.4054198600448255, 0.394343456366158, 0.38036990953359745, 0.3685043105710365, 0.4916030113643227, 0.4414249011721627, 0.39287703158327003]}, {\"categories\": [\"0\", \"1\", \"2\", \"3\", \"4\", \"5\", \"6\", \"7\", \"8\", \"9\", \"10\", \"11\", \"12\", \"13\", \"14\", \"15\", \"16\", \"17\", \"18\"], \"mode\": \"lines\", \"name\": \"log_loss_min\", \"stepped\": true, \"type\": \"scatter\", \"data\": [0.5120134554194041, 0.44335576716506486, 0.39955406860908105, 0.39955406860908105, 0.3923638535083239, 0.3923638535083239, 0.3923638535083239, 0.3923638535083239, 0.3923638535083239, 0.3923638535083239, 0.3923638535083239, 0.3923638535083239, 0.3923638535083239, 0.3923638535083239, 0.38036990953359745, 0.3685043105710365, 0.3685043105710365, 0.3685043105710365, 0.3685043105710365]}], \"f1_score_macro\": [{\"categories\": [\"0\", \"1\", \"2\", \"3\", \"4\", \"5\", \"6\", \"7\", \"8\", \"9\", \"10\", \"11\", \"12\", \"13\", \"14\", \"15\", \"16\", \"17\", \"18\"], \"mode\": \"markers\", \"name\": \"f1_score_macro\", \"stepped\": false, \"type\": \"scatter\", \"data\": [0.8020389630641217, 0.8049385458595983, 0.803553748363884, 0.7940148910141795, 0.7936291837855994, 0.7798251404421876, 0.8340614672240342, 0.8181358276050348, 0.8348176203770201, 0.8260637601005014, 0.8032660403779316, 0.8242303478082075, 0.8111274713670825, 0.7984945961437957, 0.817180576861263, 0.815130027505919, 0.7882030612673014, 0.8126724414118284, 0.8449149269046851]}, {\"categories\": [\"0\", \"1\", \"2\", \"3\", \"4\", \"5\", \"6\", \"7\", \"8\", \"9\", \"10\", \"11\", \"12\", \"13\", \"14\", \"15\", \"16\", \"17\", \"18\"], \"mode\": \"lines\", \"name\": \"f1_score_macro_max\", \"stepped\": true, \"type\": \"scatter\", \"data\": [0.8020389630641217, 0.8049385458595983, 0.8049385458595983, 0.8049385458595983, 0.8049385458595983, 0.8049385458595983, 0.8340614672240342, 0.8340614672240342, 0.8348176203770201, 0.8348176203770201, 0.8348176203770201, 0.8348176203770201, 0.8348176203770201, 0.8348176203770201, 0.8348176203770201, 0.8348176203770201, 0.8348176203770201, 0.8348176203770201, 0.8449149269046851]}], \"f1_score_weighted\": [{\"categories\": [\"0\", \"1\", \"2\", \"3\", \"4\", \"5\", \"6\", \"7\", \"8\", \"9\", \"10\", \"11\", \"12\", \"13\", \"14\", \"15\", \"16\", \"17\", \"18\"], \"mode\": \"markers\", \"name\": \"f1_score_weighted\", \"stepped\": false, \"type\": \"scatter\", \"data\": [0.8071549171088572, 0.8099801097590287, 0.8078884090481333, 0.8015304543776557, 0.7995183900577214, 0.7866047496497595, 0.8378049779250734, 0.823072984769594, 0.8392920026910937, 0.8301204651158457, 0.8079035920818672, 0.8294414940433066, 0.816119272484911, 0.8051653806950139, 0.8211101623152027, 0.8206724011642352, 0.7939574894442031, 0.8187776423250842, 0.8492654465136245]}, {\"categories\": [\"0\", \"1\", \"2\", \"3\", \"4\", \"5\", \"6\", \"7\", \"8\", \"9\", \"10\", \"11\", \"12\", \"13\", \"14\", \"15\", \"16\", \"17\", \"18\"], \"mode\": \"lines\", \"name\": \"f1_score_weighted_max\", \"stepped\": true, \"type\": \"scatter\", \"data\": [0.8071549171088572, 0.8099801097590287, 0.8099801097590287, 0.8099801097590287, 0.8099801097590287, 0.8099801097590287, 0.8378049779250734, 0.8378049779250734, 0.8392920026910937, 0.8392920026910937, 0.8392920026910937, 0.8392920026910937, 0.8392920026910937, 0.8392920026910937, 0.8392920026910937, 0.8392920026910937, 0.8392920026910937, 0.8392920026910937, 0.8492654465136245]}], \"f1_score_micro\": [{\"categories\": [\"0\", \"1\", \"2\", \"3\", \"4\", \"5\", \"6\", \"7\", \"8\", \"9\", \"10\", \"11\", \"12\", \"13\", \"14\", \"15\", \"16\", \"17\", \"18\"], \"mode\": \"markers\", \"name\": \"f1_score_micro\", \"stepped\": false, \"type\": \"scatter\", \"data\": [0.8082795698924731, 0.811290322580645, 0.8081720430107525, 0.8050537634408604, 0.8015053763440859, 0.7881720430107527, 0.8380645161290323, 0.8248387096774193, 0.8411827956989247, 0.8312903225806452, 0.8083870967741937, 0.8315053763440862, 0.8181720430107529, 0.8081720430107525, 0.8212903225806454, 0.8216129032258065, 0.7950537634408602, 0.8215053763440862, 0.8511827956989249]}, {\"categories\": [\"0\", \"1\", \"2\", \"3\", \"4\", \"5\", \"6\", \"7\", \"8\", \"9\", \"10\", \"11\", \"12\", \"13\", \"14\", \"15\", \"16\", \"17\", \"18\"], \"mode\": \"lines\", \"name\": \"f1_score_micro_max\", \"stepped\": true, \"type\": \"scatter\", \"data\": [0.8082795698924731, 0.811290322580645, 0.811290322580645, 0.811290322580645, 0.811290322580645, 0.811290322580645, 0.8380645161290323, 0.8380645161290323, 0.8411827956989247, 0.8411827956989247, 0.8411827956989247, 0.8411827956989247, 0.8411827956989247, 0.8411827956989247, 0.8411827956989247, 0.8411827956989247, 0.8411827956989247, 0.8411827956989247, 0.8511827956989249]}], \"precision_score_macro\": [{\"categories\": [\"0\", \"1\", \"2\", \"3\", \"4\", \"5\", \"6\", \"7\", \"8\", \"9\", \"10\", \"11\", \"12\", \"13\", \"14\", \"15\", \"16\", \"17\", \"18\"], \"mode\": \"markers\", \"name\": \"precision_score_macro\", \"stepped\": false, \"type\": \"scatter\", \"data\": [0.8106718975468974, 0.8150050179868291, 0.8102870699561876, 0.8117579077138742, 0.8046679097046743, 0.7904555087585274, 0.8403410723263663, 0.8286586207909735, 0.8437175079822138, 0.8401755507228147, 0.8123545514083441, 0.8339842444781704, 0.8243804998302575, 0.8129704277976252, 0.8228310170221935, 0.8224717521041051, 0.7940208647561589, 0.8312082100046496, 0.8566310613620984]}, {\"categories\": [\"0\", \"1\", \"2\", \"3\", \"4\", \"5\", \"6\", \"7\", \"8\", \"9\", \"10\", \"11\", \"12\", \"13\", \"14\", \"15\", \"16\", \"17\", \"18\"], \"mode\": \"lines\", \"name\": \"precision_score_macro_max\", \"stepped\": true, \"type\": \"scatter\", \"data\": [0.8106718975468974, 0.8150050179868291, 0.8150050179868291, 0.8150050179868291, 0.8150050179868291, 0.8150050179868291, 0.8403410723263663, 0.8403410723263663, 0.8437175079822138, 0.8437175079822138, 0.8437175079822138, 0.8437175079822138, 0.8437175079822138, 0.8437175079822138, 0.8437175079822138, 0.8437175079822138, 0.8437175079822138, 0.8437175079822138, 0.8566310613620984]}], \"matthews_correlation\": [{\"categories\": [\"0\", \"1\", \"2\", \"3\", \"4\", \"5\", \"6\", \"7\", \"8\", \"9\", \"10\", \"11\", \"12\", \"13\", \"14\", \"15\", \"16\", \"17\", \"18\"], \"mode\": \"markers\", \"name\": \"matthews_correlation\", \"stepped\": false, \"type\": \"scatter\", \"data\": [0.6145675674321259, 0.6217536108959869, 0.6170542594355237, 0.6052142935174631, 0.6005697763159142, 0.5705015108595367, 0.6760696312259659, 0.6498737802371958, 0.6793179456648923, 0.6677792264576284, 0.6196665407174607, 0.6598121477424858, 0.6363063501223415, 0.6116688977002139, 0.643933003310678, 0.6379619799696585, 0.583968619603253, 0.6439467835063224, 0.7024946584473988]}, {\"categories\": [\"0\", \"1\", \"2\", \"3\", \"4\", \"5\", \"6\", \"7\", \"8\", \"9\", \"10\", \"11\", \"12\", \"13\", \"14\", \"15\", \"16\", \"17\", \"18\"], \"mode\": \"lines\", \"name\": \"matthews_correlation_max\", \"stepped\": true, \"type\": \"scatter\", \"data\": [0.6145675674321259, 0.6217536108959869, 0.6217536108959869, 0.6217536108959869, 0.6217536108959869, 0.6217536108959869, 0.6760696312259659, 0.6760696312259659, 0.6793179456648923, 0.6793179456648923, 0.6793179456648923, 0.6793179456648923, 0.6793179456648923, 0.6793179456648923, 0.6793179456648923, 0.6793179456648923, 0.6793179456648923, 0.6793179456648923, 0.7024946584473988]}], \"average_precision_score_macro\": [{\"categories\": [\"0\", \"1\", \"2\", \"3\", \"4\", \"5\", \"6\", \"7\", \"8\", \"9\", \"10\", \"11\", \"12\", \"13\", \"14\", \"15\", \"16\", \"17\", \"18\"], \"mode\": \"markers\", \"name\": \"average_precision_score_macro\", \"stepped\": false, \"type\": \"scatter\", \"data\": [0.8861054259900077, 0.8925372994430087, 0.9116243615620107, 0.887862388610689, 0.9045653087595961, 0.8717274269414247, 0.9169890855817163, 0.9148809316192205, 0.9194768067637671, 0.9078673716472492, 0.9076556603789868, 0.9231007123471298, 0.9072367852510483, 0.9144394652117505, 0.9126298408959421, 0.9160947254077183, 0.8791126413569195, 0.9064067367414481, 0.924543505190466]}, {\"categories\": [\"0\", \"1\", \"2\", \"3\", \"4\", \"5\", \"6\", \"7\", \"8\", \"9\", \"10\", \"11\", \"12\", \"13\", \"14\", \"15\", \"16\", \"17\", \"18\"], \"mode\": \"lines\", \"name\": \"average_precision_score_macro_max\", \"stepped\": true, \"type\": \"scatter\", \"data\": [0.8861054259900077, 0.8925372994430087, 0.9116243615620107, 0.9116243615620107, 0.9116243615620107, 0.9116243615620107, 0.9169890855817163, 0.9169890855817163, 0.9194768067637671, 0.9194768067637671, 0.9194768067637671, 0.9231007123471298, 0.9231007123471298, 0.9231007123471298, 0.9231007123471298, 0.9231007123471298, 0.9231007123471298, 0.9231007123471298, 0.924543505190466]}], \"precision_score_micro\": [{\"categories\": [\"0\", \"1\", \"2\", \"3\", \"4\", \"5\", \"6\", \"7\", \"8\", \"9\", \"10\", \"11\", \"12\", \"13\", \"14\", \"15\", \"16\", \"17\", \"18\"], \"mode\": \"markers\", \"name\": \"precision_score_micro\", \"stepped\": false, \"type\": \"scatter\", \"data\": [0.8082795698924731, 0.811290322580645, 0.8081720430107525, 0.8050537634408602, 0.8015053763440859, 0.7881720430107527, 0.8380645161290323, 0.8248387096774193, 0.8411827956989247, 0.8312903225806452, 0.8083870967741937, 0.8315053763440862, 0.8181720430107529, 0.8081720430107525, 0.8212903225806454, 0.8216129032258065, 0.7950537634408602, 0.8215053763440862, 0.8511827956989249]}, {\"categories\": [\"0\", \"1\", \"2\", \"3\", \"4\", \"5\", \"6\", \"7\", \"8\", \"9\", \"10\", \"11\", \"12\", \"13\", \"14\", \"15\", \"16\", \"17\", \"18\"], \"mode\": \"lines\", \"name\": \"precision_score_micro_max\", \"stepped\": true, \"type\": \"scatter\", \"data\": [0.8082795698924731, 0.811290322580645, 0.811290322580645, 0.811290322580645, 0.811290322580645, 0.811290322580645, 0.8380645161290323, 0.8380645161290323, 0.8411827956989247, 0.8411827956989247, 0.8411827956989247, 0.8411827956989247, 0.8411827956989247, 0.8411827956989247, 0.8411827956989247, 0.8411827956989247, 0.8411827956989247, 0.8411827956989247, 0.8511827956989249]}], \"AUC_macro\": [{\"categories\": [\"0\", \"1\", \"2\", \"3\", \"4\", \"5\", \"6\", \"7\", \"8\", \"9\", \"10\", \"11\", \"12\", \"13\", \"14\", \"15\", \"16\", \"17\", \"18\"], \"mode\": \"markers\", \"name\": \"AUC_macro\", \"stepped\": false, \"type\": \"scatter\", \"data\": [0.8850880703833489, 0.8878279618558256, 0.9028188340440663, 0.8843387322172152, 0.8986564980713588, 0.8619855076124427, 0.9119115893709548, 0.9098714211485109, 0.9132885474375412, 0.902275343020699, 0.9029844428590558, 0.918538138203386, 0.9011442174240163, 0.9098522878623496, 0.9090393086875285, 0.9128511242799169, 0.873588975123031, 0.9015575777135375, 0.919605118823385]}, {\"categories\": [\"0\", \"1\", \"2\", \"3\", \"4\", \"5\", \"6\", \"7\", \"8\", \"9\", \"10\", \"11\", \"12\", \"13\", \"14\", \"15\", \"16\", \"17\", \"18\"], \"mode\": \"lines\", \"name\": \"AUC_macro_max\", \"stepped\": true, \"type\": \"scatter\", \"data\": [0.8850880703833489, 0.8878279618558256, 0.9028188340440663, 0.9028188340440663, 0.9028188340440663, 0.9028188340440663, 0.9119115893709548, 0.9119115893709548, 0.9132885474375412, 0.9132885474375412, 0.9132885474375412, 0.918538138203386, 0.918538138203386, 0.918538138203386, 0.918538138203386, 0.918538138203386, 0.918538138203386, 0.918538138203386, 0.919605118823385]}]}, \"metricName\": null, \"primaryMetricName\": \"accuracy\", \"showLegend\": false}, \"run_metrics\": [{\"name\": \"experiment_status\", \"run_id\": \"AutoML_2bb460c2-e191-436f-8b1f-fd82c3986e13\", \"categories\": [0, 1, 2, 3, 4, 5, 6, 7, 8, 9, 10, 11, 12, 13], \"series\": [{\"data\": [\"DatasetEvaluation\", \"FeaturesGeneration\", \"DatasetFeaturization\", \"DatasetFeaturizationCompleted\", \"DatasetCrossValidationSplit\", \"ModelSelection\", \"BestRunExplainModel\", \"ModelExplanationDataSetSetup\", \"PickSurrogateModel\", \"EngineeredFeatureExplanations\", \"EngineeredFeatureExplanations\", \"RawFeaturesExplanations\", \"RawFeaturesExplanations\", \"BestRunExplainModel\"]}]}, {\"name\": \"experiment_status_description\", \"run_id\": \"AutoML_2bb460c2-e191-436f-8b1f-fd82c3986e13\", \"categories\": [0, 1, 2, 3, 4, 5, 6, 7, 8, 9, 10, 11, 12, 13], \"series\": [{\"data\": [\"Gathering dataset statistics.\", \"Generating features for the dataset.\", \"Beginning to fit featurizers and featurize the dataset.\", \"Completed fit featurizers and featurizing the dataset.\", \"Generating individually featurized CV splits.\", \"Beginning model selection.\", \"Best run model explanations started\", \"Model explanations data setup completed\", \"Choosing LightGBM as the surrogate model for explanations\", \"Computation of engineered features started\", \"Computation of engineered features completed\", \"Computation of raw features started\", \"Computation of raw features completed\", \"Best run model explanations completed\"]}]}, {\"name\": \"recall_score_weighted\", \"run_id\": \"AutoML_2bb460c2-e191-436f-8b1f-fd82c3986e13\", \"categories\": [0], \"series\": [{\"data\": [0.8511827956989249]}]}, {\"name\": \"average_precision_score_macro\", \"run_id\": \"AutoML_2bb460c2-e191-436f-8b1f-fd82c3986e13\", \"categories\": [0], \"series\": [{\"data\": [0.924543505190466]}]}, {\"name\": \"accuracy\", \"run_id\": \"AutoML_2bb460c2-e191-436f-8b1f-fd82c3986e13\", \"categories\": [0], \"series\": [{\"data\": [0.8511827956989249]}]}, {\"name\": \"AUC_weighted\", \"run_id\": \"AutoML_2bb460c2-e191-436f-8b1f-fd82c3986e13\", \"categories\": [0], \"series\": [{\"data\": [0.919605118823385]}]}, {\"name\": \"average_precision_score_micro\", \"run_id\": \"AutoML_2bb460c2-e191-436f-8b1f-fd82c3986e13\", \"categories\": [0], \"series\": [{\"data\": [0.9195045143307734]}]}, {\"name\": \"f1_score_micro\", \"run_id\": \"AutoML_2bb460c2-e191-436f-8b1f-fd82c3986e13\", \"categories\": [0], \"series\": [{\"data\": [0.8511827956989249]}]}, {\"name\": \"AUC_macro\", \"run_id\": \"AutoML_2bb460c2-e191-436f-8b1f-fd82c3986e13\", \"categories\": [0], \"series\": [{\"data\": [0.919605118823385]}]}, {\"name\": \"recall_score_micro\", \"run_id\": \"AutoML_2bb460c2-e191-436f-8b1f-fd82c3986e13\", \"categories\": [0], \"series\": [{\"data\": [0.8511827956989249]}]}, {\"name\": \"AUC_micro\", \"run_id\": \"AutoML_2bb460c2-e191-436f-8b1f-fd82c3986e13\", \"categories\": [0], \"series\": [{\"data\": [0.9162730951555093]}]}, {\"name\": \"log_loss\", \"run_id\": \"AutoML_2bb460c2-e191-436f-8b1f-fd82c3986e13\", \"categories\": [0], \"series\": [{\"data\": [0.39287703158327003]}]}, {\"name\": \"precision_score_micro\", \"run_id\": \"AutoML_2bb460c2-e191-436f-8b1f-fd82c3986e13\", \"categories\": [0], \"series\": [{\"data\": [0.8511827956989249]}]}, {\"name\": \"precision_score_weighted\", \"run_id\": \"AutoML_2bb460c2-e191-436f-8b1f-fd82c3986e13\", \"categories\": [0], \"series\": [{\"data\": [0.8600107105832162]}]}, {\"name\": \"norm_macro_recall\", \"run_id\": \"AutoML_2bb460c2-e191-436f-8b1f-fd82c3986e13\", \"categories\": [0], \"series\": [{\"data\": [0.6923113694011527]}]}, {\"name\": \"matthews_correlation\", \"run_id\": \"AutoML_2bb460c2-e191-436f-8b1f-fd82c3986e13\", \"categories\": [0], \"series\": [{\"data\": [0.7024946584473988]}]}, {\"name\": \"balanced_accuracy\", \"run_id\": \"AutoML_2bb460c2-e191-436f-8b1f-fd82c3986e13\", \"categories\": [0], \"series\": [{\"data\": [0.8461556847005763]}]}, {\"name\": \"f1_score_weighted\", \"run_id\": \"AutoML_2bb460c2-e191-436f-8b1f-fd82c3986e13\", \"categories\": [0], \"series\": [{\"data\": [0.8492654465136245]}]}, {\"name\": \"recall_score_macro\", \"run_id\": \"AutoML_2bb460c2-e191-436f-8b1f-fd82c3986e13\", \"categories\": [0], \"series\": [{\"data\": [0.8461556847005763]}]}, {\"name\": \"weighted_accuracy\", \"run_id\": \"AutoML_2bb460c2-e191-436f-8b1f-fd82c3986e13\", \"categories\": [0], \"series\": [{\"data\": [0.8555389501168088]}]}, {\"name\": \"average_precision_score_weighted\", \"run_id\": \"AutoML_2bb460c2-e191-436f-8b1f-fd82c3986e13\", \"categories\": [0], \"series\": [{\"data\": [0.9275727109240621]}]}, {\"name\": \"f1_score_macro\", \"run_id\": \"AutoML_2bb460c2-e191-436f-8b1f-fd82c3986e13\", \"categories\": [0], \"series\": [{\"data\": [0.8449149269046851]}]}, {\"name\": \"precision_score_macro\", \"run_id\": \"AutoML_2bb460c2-e191-436f-8b1f-fd82c3986e13\", \"categories\": [0], \"series\": [{\"data\": [0.8566310613620984]}]}], \"run_logs\": \"\\nRun is completed.\", \"graph\": {}, \"widget_settings\": {\"childWidgetDisplay\": \"popup\", \"send_telemetry\": false, \"log_level\": \"INFO\", \"sdk_version\": \"1.19.0\"}, \"loading\": false}"
          },
          "metadata": {}
        }
      ],
      "execution_count": 8,
      "metadata": {
        "gather": {
          "logged": 1610373562906
        },
        "jupyter": {
          "outputs_hidden": false,
          "source_hidden": false
        },
        "nteract": {
          "transient": {
            "deleting": false
          }
        }
      }
    },
    {
      "cell_type": "markdown",
      "source": [
        "## Best Model\n",
        "\n"
      ],
      "metadata": {}
    },
    {
      "cell_type": "code",
      "source": [
        "best_run_aml, fitted_model_aml = remote_run.get_output()\n",
        "model_name = best_run_aml.properties['model_name']\n",
        "print(best_run_aml)"
      ],
      "outputs": [
        {
          "output_type": "stream",
          "name": "stdout",
          "text": [
            "Run(Experiment: capstone-automl,\n",
            "Id: AutoML_2bb460c2-e191-436f-8b1f-fd82c3986e13_18,\n",
            "Type: azureml.scriptrun,\n",
            "Status: Completed)\n"
          ]
        }
      ],
      "execution_count": 9,
      "metadata": {
        "gather": {
          "logged": 1610373593630
        },
        "jupyter": {
          "outputs_hidden": false,
          "source_hidden": false
        },
        "nteract": {
          "transient": {
            "deleting": false
          }
        }
      }
    },
    {
      "cell_type": "code",
      "source": [
        "print(fitted_model_aml[-1])"
      ],
      "outputs": [
        {
          "output_type": "stream",
          "name": "stdout",
          "text": [
            "PreFittedSoftVotingClassifier(classification_labels=None,\n",
            "                              estimators=[('8',\n",
            "                                           Pipeline(memory=None,\n",
            "                                                    steps=[('standardscalerwrapper',\n",
            "                                                            <azureml.automl.runtime.shared.model_wrappers.StandardScalerWrapper object at 0x7fc1482baf28>),\n",
            "                                                           ('randomforestclassifier',\n",
            "                                                            RandomForestClassifier(bootstrap=False,\n",
            "                                                                                   ccp_alpha=0.0,\n",
            "                                                                                   class_weight=None,\n",
            "                                                                                   criterion='entropy',\n",
            "                                                                                   max_depth=None...\n",
            "                                                                       decision_function_shape='ovr',\n",
            "                                                                       degree=3,\n",
            "                                                                       gamma='scale',\n",
            "                                                                       kernel='rbf',\n",
            "                                                                       max_iter=-1,\n",
            "                                                                       probability=True,\n",
            "                                                                       random_state=None,\n",
            "                                                                       shrinking=True,\n",
            "                                                                       tol=0.001,\n",
            "                                                                       verbose=False))],\n",
            "                                                    verbose=False))],\n",
            "                              flatten_transform=None,\n",
            "                              weights=[0.1111111111111111, 0.1111111111111111,\n",
            "                                       0.1111111111111111, 0.1111111111111111,\n",
            "                                       0.1111111111111111, 0.1111111111111111,\n",
            "                                       0.1111111111111111, 0.1111111111111111,\n",
            "                                       0.1111111111111111])\n"
          ]
        }
      ],
      "execution_count": 10,
      "metadata": {
        "gather": {
          "logged": 1610373605255
        }
      }
    },
    {
      "cell_type": "code",
      "source": [
        "#TODO: Save the best model\n",
        "best_run_aml.download_file('./outputs/model.pkl', './outputs/heart-diesease-auto-model.pkl')\n",
        "best_run_aml.download_file('./outputs/scoring_file_v_1_0_0.py', './outputs/score_aml.py')\n",
        "best_run_aml.download_file('./automl_driver.py', './outputs/automl_driver.py')"
      ],
      "outputs": [],
      "execution_count": 12,
      "metadata": {
        "gather": {
          "logged": 1610373664122
        },
        "jupyter": {
          "outputs_hidden": false,
          "source_hidden": false
        },
        "nteract": {
          "transient": {
            "deleting": false
          }
        }
      }
    },
    {
      "cell_type": "markdown",
      "source": [
        "## Auto ML Evaluation"
      ],
      "metadata": {}
    },
    {
      "cell_type": "code",
      "source": [
        "import pickle\n",
        "file = open(\"./outputs/heart-diesease-auto-model.pkl\",'rb')\n",
        "aml_model = pickle.load(file)\n",
        "file.close()"
      ],
      "outputs": [],
      "execution_count": 14,
      "metadata": {
        "gather": {
          "logged": 1610373701521
        }
      }
    },
    {
      "cell_type": "code",
      "source": [
        "from sklearn.metrics import accuracy_score\n",
        "import pandas as pd\n",
        "\n",
        "\n",
        "factory = TabularDatasetFactory()\n",
        "test_data_path = \"https://raw.githubusercontent.com/krishula/AzureMLCapstone/main/heart.csv\"\n",
        "test_ds = pd.read_csv(test_data_path)\n",
        "y_test = test_ds[['target']]\n",
        "print(accuracy_score(aml_model.predict(test_ds.drop(columns=['target'])), y_test))"
      ],
      "outputs": [
        {
          "output_type": "stream",
          "name": "stdout",
          "text": [
            "0.9174917491749175\n"
          ]
        }
      ],
      "execution_count": 15,
      "metadata": {
        "gather": {
          "logged": 1610373735590
        }
      }
    },
    {
      "cell_type": "code",
      "source": [
        "from sklearn.metrics import classification_report\n",
        "print(classification_report(y_test, aml_model.predict(test_ds.drop(columns=['target']))))"
      ],
      "outputs": [
        {
          "output_type": "stream",
          "name": "stdout",
          "text": [
            "              precision    recall  f1-score   support\n",
            "\n",
            "           0       0.93      0.88      0.91       138\n",
            "           1       0.91      0.95      0.93       165\n",
            "\n",
            "    accuracy                           0.92       303\n",
            "   macro avg       0.92      0.91      0.92       303\n",
            "weighted avg       0.92      0.92      0.92       303\n",
            "\n"
          ]
        }
      ],
      "execution_count": 16,
      "metadata": {
        "gather": {
          "logged": 1610373756304
        }
      }
    },
    {
      "cell_type": "markdown",
      "source": [
        "## Model Deployment"
      ],
      "metadata": {}
    },
    {
      "cell_type": "code",
      "source": [
        "from azureml.core.model import Model\n",
        "\n",
        "model = Model.register(workspace = ws,\n",
        "                        model_path =\"./outputs/heart-diesease-auto-model.pkl\",\n",
        "                        model_name = \"automl_cap\")"
      ],
      "outputs": [
        {
          "output_type": "stream",
          "name": "stdout",
          "text": [
            "Registering model automl_cap\n"
          ]
        }
      ],
      "execution_count": 24,
      "metadata": {
        "gather": {
          "logged": 1610374778693
        }
      }
    },
    {
      "cell_type": "code",
      "source": [
        "print(model.name)"
      ],
      "outputs": [
        {
          "output_type": "stream",
          "name": "stdout",
          "text": [
            "automl_cap\n"
          ]
        }
      ],
      "execution_count": 25,
      "metadata": {
        "gather": {
          "logged": 1610374796881
        }
      }
    },
    {
      "cell_type": "markdown",
      "source": [
        "### Inference configuration"
      ],
      "metadata": {}
    },
    {
      "cell_type": "code",
      "source": [
        "from azureml.core.environment import Environment\n",
        "from azureml.core.model import InferenceConfig\n",
        "\n",
        "\n",
        "env = Environment.from_conda_specification(name='myenv',file_path = 'env.yml')\n",
        "\n",
        "# for pip_package in [\"scikit-learn\", \"py-xgboost\", \"xgboost\"]:\n",
        "#     env.python.conda_dependencies.add_pip_package(pip_package)\n",
        "\n",
        "# env.python.conda_dependencies(\"xgboost\")\n",
        "\n",
        "inference_config = InferenceConfig(entry_script='./score.py',\n",
        "                                    environment=env)"
      ],
      "outputs": [],
      "execution_count": 31,
      "metadata": {
        "gather": {
          "logged": 1610375411772
        },
        "jupyter": {
          "outputs_hidden": false,
          "source_hidden": false
        },
        "nteract": {
          "transient": {
            "deleting": false
          }
        }
      }
    },
    {
      "cell_type": "code",
      "source": [
        "f = open(\"envnew.yml\", \"w\")\n",
        "f.write(env.python.conda_dependencies.serialize_to_string())\n",
        "f.close()\n",
        "\n",
        "print(\"packages\", env.python.conda_dependencies.serialize_to_string())"
      ],
      "outputs": [
        {
          "output_type": "stream",
          "name": "stdout",
          "text": [
            "packages channels:\n",
            "- anaconda\n",
            "- conda-forge\n",
            "dependencies:\n",
            "- pip\n",
            "- python=3.6.2\n",
            "- pip:\n",
            "  - azureml-core==1.19.0\n",
            "  - azureml-defaults==1.19.0\n",
            "  - azureml-telemetry==1.19.0\n",
            "  - azureml-train-core==1.19.0\n",
            "  - azureml-widgets==1.19.0\n",
            "  - azureml-sdk==1.19.0\n",
            "  - azureml-train-automl-runtime==1.19.0\n",
            "  - azureml-automl-runtime==1.19.0\n",
            "  - mlflow\n",
            "  - sklearn-pandas\n",
            "- pandas\n",
            "- numpy\n",
            "- tqdm\n",
            "- py-xgboost\n",
            "- joblib\n",
            "- xgboost\n",
            "- scikit-learn==0.22.1\n",
            "- matplotlib\n",
            "name: azureml_a1736710baabf05d37337a101fa8d6d1\n",
            "\n"
          ]
        }
      ],
      "execution_count": 32,
      "metadata": {
        "gather": {
          "logged": 1610375416407
        }
      }
    },
    {
      "cell_type": "code",
      "source": [
        "from azureml.core.webservice import AciWebservice,Webservice\n",
        "from azureml.core.model import Model\n",
        "\n",
        "deployment_config = AciWebservice.deploy_configuration(cpu_cores = 1, memory_gb = 1,enable_app_insights = True)\n",
        "service = Model.deploy(ws, \"deploy3\", [model], inference_config, deployment_config)\n",
        "service.wait_for_deployment(show_output = True)\n",
        "print(service.state)"
      ],
      "outputs": [
        {
          "output_type": "stream",
          "name": "stdout",
          "text": [
            "Tips: You can try get_logs(): https://aka.ms/debugimage#dockerlog or local deployment: https://aka.ms/debugimage#debug-locally to debug if deployment takes longer than 10 minutes.\n",
            "Running.........................................\n",
            "Succeeded\n",
            "ACI service creation operation finished, operation \"Succeeded\"\n",
            "Healthy\n"
          ]
        }
      ],
      "execution_count": 43,
      "metadata": {
        "gather": {
          "logged": 1610376376783
        }
      }
    },
    {
      "cell_type": "code",
      "source": [
        "logs = service.get_logs()\n",
        "for line in logs.split('\\n'):\n",
        "    print(line)"
      ],
      "outputs": [
        {
          "output_type": "stream",
          "name": "stdout",
          "text": [
            "2021-01-11T14:46:00,668571066+00:00 - nginx/run \n",
            "/usr/sbin/nginx: /azureml-envs/azureml_78b912a296061c9d6178810a04b724e8/lib/libcrypto.so.1.0.0: no version information available (required by /usr/sbin/nginx)\n",
            "/usr/sbin/nginx: /azureml-envs/azureml_78b912a296061c9d6178810a04b724e8/lib/libcrypto.so.1.0.0: no version information available (required by /usr/sbin/nginx)\n",
            "/usr/sbin/nginx: /azureml-envs/azureml_78b912a296061c9d6178810a04b724e8/lib/libssl.so.1.0.0: no version information available (required by /usr/sbin/nginx)\n",
            "/usr/sbin/nginx: /azureml-envs/azureml_78b912a296061c9d6178810a04b724e8/lib/libssl.so.1.0.0: no version information available (required by /usr/sbin/nginx)\n",
            "/usr/sbin/nginx: /azureml-envs/azureml_78b912a296061c9d6178810a04b724e8/lib/libssl.so.1.0.0: no version information available (required by /usr/sbin/nginx)\n",
            "2021-01-11T14:46:00,686149926+00:00 - iot-server/run \n",
            "2021-01-11T14:46:00,686867629+00:00 - gunicorn/run \n",
            "2021-01-11T14:46:00,687186430+00:00 - rsyslog/run \n",
            "rsyslogd: /azureml-envs/azureml_78b912a296061c9d6178810a04b724e8/lib/libuuid.so.1: no version information available (required by rsyslogd)\n",
            "EdgeHubConnectionString and IOTEDGE_IOTHUBHOSTNAME are not set. Exiting...\n",
            "2021-01-11T14:46:00,839168453+00:00 - iot-server/finish 1 0\n",
            "2021-01-11T14:46:00,840205256+00:00 - Exit code 1 is normal. Not restarting iot-server.\n",
            "Starting gunicorn 19.9.0\n",
            "Listening at: http://127.0.0.1:31311 (17)\n",
            "Using worker: sync\n",
            "worker timeout is set to 300\n",
            "Booting worker with pid: 43\n",
            "SPARK_HOME not set. Skipping PySpark Initialization.\n",
            "Generating new fontManager, this may take some time...\n",
            "Initializing logger\n",
            "2021-01-11 14:46:02,196 | root | INFO | Starting up app insights client\n",
            "Starting up app insights client\n",
            "2021-01-11 14:46:02,196 | root | INFO | Starting up request id generator\n",
            "Starting up request id generator\n",
            "2021-01-11 14:46:02,196 | root | INFO | Starting up app insight hooks\n",
            "Starting up app insight hooks\n",
            "2021-01-11 14:46:02,196 | root | INFO | Invoking user's init function\n",
            "Invoking user's init function\n",
            "2021-01-11 14:46:05,385 | root | INFO | Users's init has completed successfully\n",
            "Users's init has completed successfully\n",
            "2021-01-11 14:46:05,387 | root | INFO | Skipping middleware: dbg_model_info as it's not enabled.\n",
            "Skipping middleware: dbg_model_info as it's not enabled.\n",
            "2021-01-11 14:46:05,387 | root | INFO | Skipping middleware: dbg_resource_usage as it's not enabled.\n",
            "Skipping middleware: dbg_resource_usage as it's not enabled.\n",
            "2021-01-11 14:46:05,388 | root | INFO | Scoring timeout is found from os.environ: 60000 ms\n",
            "Scoring timeout is found from os.environ: 60000 ms\n",
            "2021-01-11 14:46:15,350 | root | INFO | Swagger file not present\n",
            "Swagger file not present\n",
            "2021-01-11 14:46:15,350 | root | INFO | 404\n",
            "404\n",
            "127.0.0.1 - - [11/Jan/2021:14:46:15 +0000] \"GET /swagger.json HTTP/1.0\" 404 19 \"-\" \"Go-http-client/1.1\"\n",
            "2021-01-11 14:46:16,642 | root | INFO | Swagger file not present\n",
            "Swagger file not present\n",
            "2021-01-11 14:46:16,642 | root | INFO | 404\n",
            "404\n",
            "127.0.0.1 - - [11/Jan/2021:14:46:16 +0000] \"GET /swagger.json HTTP/1.0\" 404 19 \"-\" \"Go-http-client/1.1\"\n",
            "\n"
          ]
        }
      ],
      "execution_count": 44,
      "metadata": {
        "gather": {
          "logged": 1610376415595
        }
      }
    },
    {
      "cell_type": "markdown",
      "source": [
        "## Sending a request to the web service we deployed to test it."
      ],
      "metadata": {
        "collapsed": true,
        "gather": {
          "logged": 1598431657736
        },
        "jupyter": {
          "outputs_hidden": false,
          "source_hidden": false
        },
        "nteract": {
          "transient": {
            "deleting": false
          }
        }
      }
    },
    {
      "cell_type": "code",
      "source": [
        "import json\n",
        "\n",
        "test_ds1 = test_ds.drop('target',axis=1)\n",
        "data= ({'data':test_ds1[0:3].to_dict(orient='records'),'method':'predict'})\n",
        "test_sample=json.dumps(data)\n",
        "#test_sampole = json.dumps({'data': test_ds[0:2].tolist(),'method': 'predict'})\n",
        "output= service.run(test_sample)\n",
        "print(output)"
      ],
      "outputs": [
        {
          "output_type": "stream",
          "name": "stdout",
          "text": [
            "[1, 1, 1]\n"
          ]
        }
      ],
      "execution_count": 49,
      "metadata": {
        "gather": {
          "logged": 1610376436505
        },
        "jupyter": {
          "outputs_hidden": false,
          "source_hidden": false
        },
        "nteract": {
          "transient": {
            "deleting": false
          }
        }
      }
    },
    {
      "cell_type": "code",
      "source": [
        "data = {\"data\":\n",
        "        [\n",
        "          {\n",
        "            \"age\": 63,\n",
        "            \"sex\": 1,\n",
        "            \"cp\": 3,\n",
        "            \"trestbps\": 145,\n",
        "            \"chol\": 233,\n",
        "            \"fbs\": 1,\n",
        "            \"restecg\": 0,\n",
        "            \"thalach\": 150,\n",
        "            \"exang\": 0,\n",
        "            \"oldpeak\": 2.3,\n",
        "            \"slope\": 0,\n",
        "            \"ca\": 0,\n",
        "            \"thal\": 1,\n",
        "          }\n",
        "      ]}#,'method':'predict'}\n",
        "test_sample = json.dumps(data)\n",
        "output= service.run(test_sample)\n",
        "print(output)"
      ],
      "outputs": [
        {
          "output_type": "stream",
          "name": "stdout",
          "text": [
            "[1]\n"
          ]
        }
      ],
      "execution_count": 51,
      "metadata": {
        "gather": {
          "logged": 1610376453348
        }
      }
    },
    {
      "cell_type": "code",
      "source": [
        "import requests\n",
        "scoring_uri='http://188b1b42-7cd3-42f3-a045-9f88f276cbe9.eastus2.azurecontainer.io/score'\n",
        "key=''\n",
        "headers = {'Content-Type': 'application/json'}\n",
        "# If authentication is enabled, set the authorization header\n",
        "#headers['Authorization'] = f'Bearer {key}'\n",
        "data = {\"data\":\n",
        "        [\n",
        "          {\n",
        "            \"age\": 63,\n",
        "            \"sex\": 1,\n",
        "            \"cp\": 3,\n",
        "            \"trestbps\": 145,\n",
        "            \"chol\": 233,\n",
        "            \"fbs\": 1,\n",
        "            \"restecg\": 0,\n",
        "            \"thalach\": 150,\n",
        "            \"exang\": 0,\n",
        "            \"oldpeak\": 2.3,\n",
        "            \"slope\": 0,\n",
        "            \"ca\": 0,\n",
        "            \"thal\": 1,\n",
        "          }\n",
        "      ]\n",
        "    }\n",
        "test_sample = json.dumps(data)\n",
        "\n",
        "\n",
        "resp = requests.post(scoring_uri, test_sample, headers=headers)\n",
        "print(resp.json())"
      ],
      "outputs": [
        {
          "output_type": "stream",
          "name": "stdout",
          "text": [
            "[1]\n"
          ]
        }
      ],
      "execution_count": 53,
      "metadata": {
        "gather": {
          "logged": 1610376553232
        }
      }
    },
    {
      "cell_type": "markdown",
      "source": [
        "## Printing the logs of the web service and delete the service"
      ],
      "metadata": {
        "collapsed": true,
        "gather": {
          "logged": 1598432765711
        },
        "jupyter": {
          "outputs_hidden": false,
          "source_hidden": false
        },
        "nteract": {
          "transient": {
            "deleting": false
          }
        }
      }
    },
    {
      "cell_type": "code",
      "source": [
        "service.delete()\n",
        "print(\"service deleted\")"
      ],
      "outputs": [
        {
          "output_type": "stream",
          "name": "stdout",
          "text": [
            "service deleted\n"
          ]
        }
      ],
      "execution_count": 47,
      "metadata": {
        "jupyter": {
          "outputs_hidden": false,
          "source_hidden": false
        },
        "nteract": {
          "transient": {
            "deleting": false
          }
        }
      }
    },
    {
      "cell_type": "code",
      "source": [
        "aml_compute.delete()\n",
        "print(\"compute deleted\")"
      ],
      "outputs": [
        {
          "output_type": "stream",
          "name": "stdout",
          "text": [
            "compute deleted\n"
          ]
        }
      ],
      "execution_count": 48,
      "metadata": {}
    },
    {
      "cell_type": "code",
      "source": [],
      "outputs": [],
      "execution_count": null,
      "metadata": {}
    }
  ],
  "metadata": {
    "kernel_info": {
      "name": "python3"
    },
    "kernelspec": {
      "name": "python3",
      "language": "python",
      "display_name": "Python 3"
    },
    "language_info": {
      "name": "python",
      "version": "3.6.9",
      "mimetype": "text/x-python",
      "codemirror_mode": {
        "name": "ipython",
        "version": 3
      },
      "pygments_lexer": "ipython3",
      "nbconvert_exporter": "python",
      "file_extension": ".py"
    },
    "nteract": {
      "version": "nteract-front-end@1.0.0"
    },
    "toc": {
      "toc_position": {},
      "skip_h1_title": false,
      "number_sections": true,
      "title_cell": "Table of Contents",
      "toc_window_display": false,
      "base_numbering": 1,
      "toc_section_display": true,
      "title_sidebar": "Contents",
      "toc_cell": false,
      "nav_menu": {},
      "sideBar": true
    }
  },
  "nbformat": 4,
  "nbformat_minor": 2
}